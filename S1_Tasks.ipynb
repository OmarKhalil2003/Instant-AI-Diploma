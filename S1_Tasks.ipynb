{
  "nbformat": 4,
  "nbformat_minor": 0,
  "metadata": {
    "colab": {
      "provenance": []
    },
    "kernelspec": {
      "name": "python3",
      "display_name": "Python 3"
    },
    "language_info": {
      "name": "python"
    }
  },
  "cells": [
    {
      "cell_type": "code",
      "execution_count": null,
      "metadata": {
        "id": "i43el1NgTQPP"
      },
      "outputs": [],
      "source": [
        "Task 1\n",
        "What is API as concept?\n",
        "An API is like a messenger that helps different software programs talk to each other. It's a set of rules that they follow to exchange information and work together."
      ]
    },
    {
      "cell_type": "markdown",
      "source": [],
      "metadata": {
        "id": "hik5u-InTXL4"
      }
    },
    {
      "cell_type": "code",
      "source": [
        "#Task 2\n",
        "#enter num and print its abs\n",
        "num=int(input(\"enter number: \"))\n",
        "if num<0:\n",
        "  print(-num)\n",
        "else:\n",
        "  print(num)"
      ],
      "metadata": {
        "colab": {
          "base_uri": "https://localhost:8080/"
        },
        "id": "q1sAvdddVLoA",
        "outputId": "a5969189-3453-400d-dee4-df66fb087030"
      },
      "execution_count": null,
      "outputs": [
        {
          "output_type": "stream",
          "name": "stdout",
          "text": [
            "enter number: 4\n",
            "4\n"
          ]
        }
      ]
    },
    {
      "cell_type": "code",
      "source": [
        "#Task 3\n",
        "#leap or not\n",
        "year=int(input(\"enter a year: \"))\n",
        "if (year%4==0 and year%100!=0 or year%400==0):\n",
        "    print(\"leap\")\n",
        "else:\n",
        "    print(\"not leap\")"
      ],
      "metadata": {
        "colab": {
          "base_uri": "https://localhost:8080/"
        },
        "id": "5D6N6o-eV3XW",
        "outputId": "b5665142-20e9-4327-a075-89cb26442799"
      },
      "execution_count": null,
      "outputs": [
        {
          "output_type": "stream",
          "name": "stdout",
          "text": [
            "enter a year: 2003\n",
            "not leap\n"
          ]
        }
      ]
    },
    {
      "cell_type": "code",
      "source": [
        "#Task 4\n",
        "#age of 3 person and print the oldest and youngest\n",
        "a=int(input(\"enter age 1: \"))\n",
        "b=int(input(\"enter age 2: \"))\n",
        "c=int(input(\"enter age 3: \"))\n",
        "\n",
        "oldest = a\n",
        "if b > oldest:\n",
        "    oldest = b\n",
        "if c > oldest:\n",
        "    oldest = c\n",
        "\n",
        "youngest = a\n",
        "if b < youngest:\n",
        "    youngest = b\n",
        "if c < youngest:\n",
        "    youngest = c\n",
        "\n",
        "print(\"Oldest:\", oldest)\n",
        "print(\"Youngest:\", youngest)"
      ],
      "metadata": {
        "colab": {
          "base_uri": "https://localhost:8080/"
        },
        "id": "Q2wssn3MWimn",
        "outputId": "ac8f41f0-ea37-4cfd-c2c4-72d054de518e"
      },
      "execution_count": null,
      "outputs": [
        {
          "output_type": "stream",
          "name": "stdout",
          "text": [
            "enter age 1: 4\n",
            "enter age 2: 5\n",
            "enter age 3: 6\n",
            "Oldest: 6\n",
            "Youngest: 4\n"
          ]
        }
      ]
    },
    {
      "cell_type": "code",
      "source": [
        "#additional task 1\n",
        "#sum of positive only\n",
        "sum= 0\n",
        "\n",
        "num = int(input(\"enter number: \"))\n",
        "if num >= 0:\n",
        "    sum+= num\n",
        "\n",
        "num = int(input(\"enter number: \"))\n",
        "if num >= 0:\n",
        "    sum+= num\n",
        "\n",
        "num = int(input(\"enter number: \"))\n",
        "if num >= 0:\n",
        "    sum+= num\n",
        "\n",
        "num = int(input(\"enter number: \"))\n",
        "if num >= 0:\n",
        "    sum+= num\n",
        "\n",
        "print(\"sum=\",sum)"
      ],
      "metadata": {
        "colab": {
          "base_uri": "https://localhost:8080/"
        },
        "id": "68vgLRiC1FqB",
        "outputId": "da8e0cb9-52f8-4165-888c-950ac70e9a0e"
      },
      "execution_count": null,
      "outputs": [
        {
          "output_type": "stream",
          "name": "stdout",
          "text": [
            "enter number: 5\n",
            "enter number: 8\n",
            "enter number: 12\n",
            "enter number: -2\n",
            "sum= 25\n"
          ]
        }
      ]
    },
    {
      "cell_type": "code",
      "source": [
        "#additional task 2\n",
        "#voting age\n",
        "name=input(\"enter ur name: \")\n",
        "age=int(input(\"enter ur age: \"))\n",
        "if age>=18:\n",
        "  print(name,\", you are eligible to vote.\")\n",
        "else:\n",
        "  print(name,\", you are not eligible to vote due to being underage.\")"
      ],
      "metadata": {
        "colab": {
          "base_uri": "https://localhost:8080/"
        },
        "id": "UEmZGiYI3D5n",
        "outputId": "ce070212-e81b-47ff-b724-ba006c1633be"
      },
      "execution_count": null,
      "outputs": [
        {
          "output_type": "stream",
          "name": "stdout",
          "text": [
            "enter ur name: Dexter Morgan\n",
            "enter ur age: 20\n",
            "Dexter Morgan , you are eligible to vote.\n"
          ]
        }
      ]
    }
  ]
}