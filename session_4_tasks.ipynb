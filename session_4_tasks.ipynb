{
  "cells": [
    {
      "cell_type": "markdown",
      "id": "759d04ba",
      "metadata": {
        "id": "759d04ba"
      },
      "source": [
        "**1-Write a Python program to calculate the length of a string using 2 ways"
      ]
    },
    {
      "cell_type": "code",
      "execution_count": null,
      "id": "e434c950",
      "metadata": {
        "colab": {
          "base_uri": "https://localhost:8080/"
        },
        "id": "e434c950",
        "outputId": "c6b75ded-0976-49d3-a79a-56a72d1f3fe6"
      },
      "outputs": [
        {
          "output_type": "stream",
          "name": "stdout",
          "text": [
            "eight\n",
            "5\n"
          ]
        }
      ],
      "source": [
        "stringg=input()\n",
        "print(len(stringg))"
      ]
    },
    {
      "cell_type": "code",
      "execution_count": null,
      "id": "7a2dfa32",
      "metadata": {
        "colab": {
          "base_uri": "https://localhost:8080/"
        },
        "id": "7a2dfa32",
        "outputId": "e8c6a48a-ebee-4e02-bd2b-de6e1c5805e0"
      },
      "outputs": [
        {
          "output_type": "execute_result",
          "data": {
            "text/plain": [
              "5"
            ]
          },
          "metadata": {},
          "execution_count": 3
        }
      ],
      "source": [
        "def lenn(stringg):\n",
        "  counter=0\n",
        "  for i in stringg:\n",
        "    counter+=1\n",
        "  return counter\n",
        "\n",
        "s=\"eight\"\n",
        "lenn(s)"
      ]
    },
    {
      "cell_type": "markdown",
      "id": "d7cc9da7",
      "metadata": {
        "id": "d7cc9da7"
      },
      "source": [
        "**2-Write a Python program to get a string made of the first 2 and last 2 characters of a given string. If the string length is less than 2, return the empty string instead (\"##Sample String : 'w3resource'\n",
        "Expected Result : 'w3ce'\n",
        "##Sample String : 'w3'\n",
        "Expected Result : 'w3w3'\n",
        "##Sample String : ' w'\n",
        "Expected Result : Empty String)"
      ]
    },
    {
      "cell_type": "code",
      "execution_count": null,
      "id": "dafa9dd8",
      "metadata": {
        "colab": {
          "base_uri": "https://localhost:8080/"
        },
        "id": "dafa9dd8",
        "outputId": "606bcca2-39a6-4990-ffce-1f6f1667f51c"
      },
      "outputs": [
        {
          "output_type": "stream",
          "name": "stdout",
          "text": [
            "w3ce\n",
            "w3w3\n",
            "\n"
          ]
        }
      ],
      "source": [
        "def stringgg(stringg):\n",
        "  if len(stringg) < 2:\n",
        "    return ''\n",
        "  return stringg[0:2] + stringg[-2:]\n",
        "\n",
        "print(stringgg(\"w3resource\"))\n",
        "print(stringgg(\"w3\"))\n",
        "print(stringgg(\"w\"))"
      ]
    },
    {
      "cell_type": "markdown",
      "id": "1534f956",
      "metadata": {
        "id": "1534f956"
      },
      "source": [
        "**3-Write a Python program to add 'ing' at the end of a given string (length should be at least 3). If the given string already ends with 'ing', add 'ly' instead. If the string length of the given string is less than 3, leave it unchanged. (Sample String : 'abc'\n",
        "Expected Result : 'abcing')"
      ]
    },
    {
      "cell_type": "code",
      "execution_count": null,
      "id": "7ff8cec4",
      "metadata": {
        "colab": {
          "base_uri": "https://localhost:8080/"
        },
        "id": "7ff8cec4",
        "outputId": "12fdfb9b-61f6-460b-e89a-d119f7cca506"
      },
      "outputs": [
        {
          "output_type": "stream",
          "name": "stdout",
          "text": [
            "stringly\n",
            "abcing\n"
          ]
        }
      ],
      "source": [
        "def adding(s):\n",
        "  if len(s)>2:\n",
        "    if s[-3:]==\"ing\":\n",
        "      s+= \"ly\"\n",
        "    else:\n",
        "      s+= \"ing\"\n",
        "  return s\n",
        "\n",
        "print(adding(\"string\"))\n",
        "print(adding(\"abc\"))"
      ]
    },
    {
      "cell_type": "markdown",
      "id": "1c0a6627",
      "metadata": {
        "id": "1c0a6627"
      },
      "source": [
        "**4-Write a Python function that takes a list of words and return the longest word and the length of the longest one\n",
        "(Longest word: Exercises\n",
        "Length of the longest word: 9)"
      ]
    },
    {
      "cell_type": "code",
      "execution_count": null,
      "id": "397341d9",
      "metadata": {
        "colab": {
          "base_uri": "https://localhost:8080/"
        },
        "id": "397341d9",
        "outputId": "70cd3f14-54ba-4d96-9ff7-fc2278ee7e6b"
      },
      "outputs": [
        {
          "output_type": "execute_result",
          "data": {
            "text/plain": [
              "('Ertugrul', 8)"
            ]
          },
          "metadata": {},
          "execution_count": 1
        }
      ],
      "source": [
        "def find_long(listt):\n",
        "  longest_word=\"\"\n",
        "  word_len=0\n",
        "  for word in listt:\n",
        "    if len(word)>word_len:\n",
        "      word_len=len(word)\n",
        "      longest_word=word\n",
        "\n",
        "  return longest_word,word_len\n",
        "\n",
        "l=[\"Osman\",\"Ertugrul\",\"Dexter\",\"Jax\",\"Turgut\"]\n",
        "find_long(l)"
      ]
    },
    {
      "cell_type": "markdown",
      "id": "53a03a6a",
      "metadata": {
        "id": "53a03a6a"
      },
      "source": [
        "**5-Write a Python program to change a given string to a newly string where the first and last chars have been exchanged using 2 ways (Sample String:abca  Expected Result:ebce)"
      ]
    },
    {
      "cell_type": "code",
      "execution_count": null,
      "id": "fd327d2a",
      "metadata": {
        "colab": {
          "base_uri": "https://localhost:8080/",
          "height": 36
        },
        "id": "fd327d2a",
        "outputId": "bfb60587-00c7-4f1e-c5bf-95948ce7d5ff"
      },
      "outputs": [
        {
          "output_type": "execute_result",
          "data": {
            "text/plain": [
              "'rmao'"
            ],
            "application/vnd.google.colaboratory.intrinsic+json": {
              "type": "string"
            }
          },
          "metadata": {},
          "execution_count": 27
        }
      ],
      "source": [
        "def ex(s):\n",
        "  new_s=s[-1]+s[1:-1]+s[0]\n",
        "  return new_s\n",
        "w=\"omar\"\n",
        "ex(w)"
      ]
    },
    {
      "cell_type": "code",
      "execution_count": null,
      "id": "285788b4",
      "metadata": {
        "colab": {
          "base_uri": "https://localhost:8080/",
          "height": 54
        },
        "id": "285788b4",
        "outputId": "d3906e26-2d87-43ae-e019-44b1da49e73d"
      },
      "outputs": [
        {
          "name": "stdout",
          "output_type": "stream",
          "text": [
            "omar\n"
          ]
        },
        {
          "output_type": "execute_result",
          "data": {
            "text/plain": [
              "'rmao'"
            ],
            "application/vnd.google.colaboratory.intrinsic+json": {
              "type": "string"
            }
          },
          "metadata": {},
          "execution_count": 34
        }
      ],
      "source": [
        "def exx(s):\n",
        "  s=list(input())\n",
        "  s[0],s[-1]=s[-1],s[0]\n",
        "  ss=\"\".join(s)\n",
        "  return ss\n",
        "exx(w)"
      ]
    },
    {
      "cell_type": "markdown",
      "id": "25f89808",
      "metadata": {
        "id": "25f89808"
      },
      "source": [
        "**6-Write a Python program to remove characters that have odd index values in a given string (Sample String:abca Expected Result:ac)"
      ]
    },
    {
      "cell_type": "code",
      "execution_count": null,
      "id": "05959bd7",
      "metadata": {
        "colab": {
          "base_uri": "https://localhost:8080/",
          "height": 36
        },
        "id": "05959bd7",
        "outputId": "bbf933a8-449a-47fa-c925-efde2a6f060f"
      },
      "outputs": [
        {
          "output_type": "execute_result",
          "data": {
            "text/plain": [
              "'egt'"
            ],
            "application/vnd.google.colaboratory.intrinsic+json": {
              "type": "string"
            }
          },
          "metadata": {},
          "execution_count": 38
        }
      ],
      "source": [
        "def remove_odd(s):\n",
        "  new_s=\"\"\n",
        "  for i in range(len(s)):\n",
        "    if i%2==0:\n",
        "      new_s=new_s+s[i]\n",
        "  return new_s\n",
        "ss=\"eight\"\n",
        "remove_odd(ss)"
      ]
    },
    {
      "cell_type": "markdown",
      "id": "eb16e898",
      "metadata": {
        "id": "eb16e898"
      },
      "source": [
        "**7-Write a Python program to count the occurrences of each word in a given sentence (Sample String:amr and ahmed are frindes but amr is the tallest Expected Result:2)"
      ]
    },
    {
      "cell_type": "code",
      "execution_count": null,
      "id": "01ce6cf5",
      "metadata": {
        "colab": {
          "base_uri": "https://localhost:8080/"
        },
        "id": "01ce6cf5",
        "outputId": "947b84b5-e296-481d-9521-49cae80a5509"
      },
      "outputs": [
        {
          "output_type": "execute_result",
          "data": {
            "text/plain": [
              "{'amr': 2,\n",
              " 'and': 1,\n",
              " 'ahmed': 1,\n",
              " 'are': 1,\n",
              " 'frindes': 1,\n",
              " 'but': 1,\n",
              " 'is': 1,\n",
              " 'the': 1,\n",
              " 'tallest': 1}"
            ]
          },
          "metadata": {},
          "execution_count": 3
        }
      ],
      "source": [
        "def countt(s):\n",
        "  words=s.lower().split()\n",
        "  counter=dict()\n",
        "  for word in words:\n",
        "    if word in counter:\n",
        "      counter[word]+=1\n",
        "    else:\n",
        "      counter[word]=1\n",
        "  return counter\n",
        "\n",
        "\n",
        "ss=\"amr and ahmed are frindes but amr is the tallest\"\n",
        "countt(ss)"
      ]
    },
    {
      "cell_type": "markdown",
      "id": "4e8125f1",
      "metadata": {
        "id": "4e8125f1"
      },
      "source": [
        "**8-Write a Python script that takes input from the user and displays that input back in upper and lower cases"
      ]
    },
    {
      "cell_type": "code",
      "execution_count": null,
      "id": "66c8f778",
      "metadata": {
        "colab": {
          "base_uri": "https://localhost:8080/"
        },
        "id": "66c8f778",
        "outputId": "16f89f77-defc-497e-f0e6-ad7c96fe30fd"
      },
      "outputs": [
        {
          "output_type": "stream",
          "name": "stdout",
          "text": [
            "OMAR\n",
            "omar\n"
          ]
        }
      ],
      "source": [
        "def UppLow(s):\n",
        "  print(s.upper())\n",
        "  print(s.lower())\n",
        "\n",
        "ss=\"omar\"\n",
        "UppLow(ss)"
      ]
    },
    {
      "cell_type": "markdown",
      "id": "fcd68aa1",
      "metadata": {
        "id": "fcd68aa1"
      },
      "source": [
        "**9-Write a Python function to reverse a string if its length is a multiple of 4"
      ]
    },
    {
      "cell_type": "code",
      "execution_count": null,
      "id": "0671a931",
      "metadata": {
        "colab": {
          "base_uri": "https://localhost:8080/"
        },
        "id": "0671a931",
        "outputId": "ae299b20-f993-41ed-9fb1-d7b30c2fcc0d"
      },
      "outputs": [
        {
          "output_type": "stream",
          "name": "stdout",
          "text": [
            "lilahK.MramO\n"
          ]
        }
      ],
      "source": [
        "def revv(s):\n",
        "  if len(s)%4==0:\n",
        "    print(''.join(reversed(s)))\n",
        "\n",
        "ss=\"OmarM.Khalil\"\n",
        "revv(ss)"
      ]
    },
    {
      "cell_type": "markdown",
      "id": "b577c68d",
      "metadata": {
        "id": "b577c68d"
      },
      "source": [
        "**10- Write a Python program to remove a newline in Python"
      ]
    },
    {
      "cell_type": "code",
      "execution_count": null,
      "id": "e0c6525a",
      "metadata": {
        "colab": {
          "base_uri": "https://localhost:8080/",
          "height": 36
        },
        "id": "e0c6525a",
        "outputId": "76b177d0-723e-4ea5-b196-403fee75a173"
      },
      "outputs": [
        {
          "output_type": "execute_result",
          "data": {
            "text/plain": [
              "'Omar Mahmoud Khalil'"
            ],
            "application/vnd.google.colaboratory.intrinsic+json": {
              "type": "string"
            }
          },
          "metadata": {},
          "execution_count": 10
        }
      ],
      "source": [
        "def rmvln(s):\n",
        "  ln=s.split(\"\\n\")\n",
        "  return \" \".join(ln)\n",
        "\n",
        "ss=\"Omar\\nMahmoud\\nKhalil\"\n",
        "rmvln(ss)"
      ]
    },
    {
      "cell_type": "markdown",
      "id": "80db5ae0",
      "metadata": {
        "id": "80db5ae0"
      },
      "source": [
        "**11-Write a Python program to check whether a string starts with specified characters"
      ]
    },
    {
      "cell_type": "code",
      "execution_count": null,
      "id": "0cc4e03e",
      "metadata": {
        "id": "0cc4e03e",
        "colab": {
          "base_uri": "https://localhost:8080/"
        },
        "outputId": "f819c787-6f00-482f-8ed6-01c791616479"
      },
      "outputs": [
        {
          "name": "stdout",
          "output_type": "stream",
          "text": [
            "enter a string: eight\n",
            "enter a specified char: c\n"
          ]
        },
        {
          "output_type": "execute_result",
          "data": {
            "text/plain": [
              "False"
            ]
          },
          "metadata": {},
          "execution_count": 15
        }
      ],
      "source": [
        "def check_spec(s,sc):\n",
        "  return s.startswith(sc)\n",
        "s=input(\"enter a string: \")\n",
        "sc=input(\"enter a specified char: \")\n",
        "check_spec(s,sc)"
      ]
    },
    {
      "cell_type": "markdown",
      "id": "593a68db",
      "metadata": {
        "id": "593a68db"
      },
      "source": [
        "**12- Write a Python program to add prefix text to all of the lines in a string"
      ]
    },
    {
      "cell_type": "code",
      "execution_count": null,
      "id": "d2e46ada",
      "metadata": {
        "id": "d2e46ada",
        "colab": {
          "base_uri": "https://localhost:8080/"
        },
        "outputId": "883ddf3c-90ea-4886-bae4-cd81adecf3b0"
      },
      "outputs": [
        {
          "output_type": "stream",
          "name": "stdout",
          "text": [
            ">>line1 \n",
            ">>line2 \n",
            ">>line3 \n"
          ]
        }
      ],
      "source": [
        "def pree(s):\n",
        "  lines=s.split(\"\\n\")\n",
        "  prefix=\">>\"\n",
        "  new_lines=[prefix+line for line in lines]\n",
        "  print(\"\\n\".join(new_lines))\n",
        "\n",
        "s=\"\"\"line1\n",
        "line2\n",
        "line3 \"\"\"\n",
        "pree(s)"
      ]
    },
    {
      "cell_type": "markdown",
      "id": "86fa1543",
      "metadata": {
        "id": "86fa1543"
      },
      "source": [
        "**13-Write a Python program to print the following numbers up to 2 decimal places"
      ]
    },
    {
      "cell_type": "code",
      "execution_count": null,
      "id": "cd4a9d89",
      "metadata": {
        "id": "cd4a9d89",
        "colab": {
          "base_uri": "https://localhost:8080/"
        },
        "outputId": "bbf137e0-d4b3-4500-c144-03cd55edcde4"
      },
      "outputs": [
        {
          "output_type": "stream",
          "name": "stdout",
          "text": [
            "1.11\n",
            "8.89\n",
            "2.22\n",
            "5.55\n"
          ]
        }
      ],
      "source": [
        "def twodec(n):\n",
        "  for num in n:\n",
        "    print(\"{:.2f}\".format(num))\n",
        "n=[1.111,8.888,2.222,5.555]\n",
        "twodec(n)"
      ]
    },
    {
      "cell_type": "markdown",
      "id": "452c0ab0",
      "metadata": {
        "id": "452c0ab0"
      },
      "source": [
        "**14-Write a Python program to print the following numbers up to 2 decimal places with a sign"
      ]
    },
    {
      "cell_type": "code",
      "execution_count": null,
      "id": "73e82479",
      "metadata": {
        "id": "73e82479",
        "colab": {
          "base_uri": "https://localhost:8080/"
        },
        "outputId": "661f3304-c38c-4034-f9c7-3c475218d6a0"
      },
      "outputs": [
        {
          "output_type": "stream",
          "name": "stdout",
          "text": [
            "+1.11\n",
            "-8.89\n",
            "-2.22\n",
            "+5.55\n"
          ]
        }
      ],
      "source": [
        "def twodec(n):\n",
        "  for num in n:\n",
        "    print(\"{:+.2f}\".format(num))\n",
        "n=[+1.111,-8.888,-2.222,5.555]\n",
        "twodec(n)"
      ]
    },
    {
      "cell_type": "markdown",
      "id": "32b1811a",
      "metadata": {
        "id": "32b1811a"
      },
      "source": [
        "**15-Write a Python program to display a number with a comma separator"
      ]
    },
    {
      "cell_type": "code",
      "execution_count": null,
      "id": "f30fc0b6",
      "metadata": {
        "id": "f30fc0b6",
        "colab": {
          "base_uri": "https://localhost:8080/"
        },
        "outputId": "71504a95-5ada-4fde-e1de-308e8d5b443b"
      },
      "outputs": [
        {
          "output_type": "stream",
          "name": "stdout",
          "text": [
            "8,888,888\n"
          ]
        }
      ],
      "source": [
        "def coma(n):\n",
        "    print(f\"{n:,}\")\n",
        "n=8888888\n",
        "coma(n)"
      ]
    },
    {
      "cell_type": "markdown",
      "id": "0477f487",
      "metadata": {
        "id": "0477f487"
      },
      "source": [
        "**16-Write a Python program to reverse a string using 2 ways"
      ]
    },
    {
      "cell_type": "code",
      "source": [
        "s=input()\n",
        "print(s[::-1])"
      ],
      "metadata": {
        "colab": {
          "base_uri": "https://localhost:8080/"
        },
        "id": "rjFJAJf0cpfh",
        "outputId": "41165c49-046e-4a67-fa4b-12daba2d8618"
      },
      "id": "rjFJAJf0cpfh",
      "execution_count": null,
      "outputs": [
        {
          "output_type": "stream",
          "name": "stdout",
          "text": [
            "eight\n",
            "thgie\n"
          ]
        }
      ]
    },
    {
      "cell_type": "code",
      "execution_count": null,
      "id": "aa8beec8",
      "metadata": {
        "id": "aa8beec8",
        "colab": {
          "base_uri": "https://localhost:8080/",
          "height": 54
        },
        "outputId": "a32046ac-ebbc-47f7-c982-82be0286a51b"
      },
      "outputs": [
        {
          "name": "stdout",
          "output_type": "stream",
          "text": [
            "eight\n"
          ]
        },
        {
          "output_type": "execute_result",
          "data": {
            "text/plain": [
              "'thgie'"
            ],
            "application/vnd.google.colaboratory.intrinsic+json": {
              "type": "string"
            }
          },
          "metadata": {},
          "execution_count": 61
        }
      ],
      "source": [
        "def rev(s):\n",
        "  temp=\"\"\n",
        "  for i in s:\n",
        "        temp = i + temp\n",
        "  return temp\n",
        "s=input()\n",
        "rev(s)"
      ]
    },
    {
      "cell_type": "markdown",
      "id": "5afc3166",
      "metadata": {
        "id": "5afc3166"
      },
      "source": [
        " **17-Write a Python program to count repeated characters in a string (hint:use dictionary)"
      ]
    },
    {
      "cell_type": "code",
      "execution_count": null,
      "id": "515a469c",
      "metadata": {
        "id": "515a469c",
        "colab": {
          "base_uri": "https://localhost:8080/"
        },
        "outputId": "f6826fe0-ffcc-4e3a-9a07-7f36e81a8087"
      },
      "outputs": [
        {
          "output_type": "execute_result",
          "data": {
            "text/plain": [
              "{'d': 1, 'i': 2, 'c': 1, 't': 1, 'o': 1, 'n': 1, 'a': 1, 'r': 1, 'y': 1}"
            ]
          },
          "metadata": {},
          "execution_count": 1
        }
      ],
      "source": [
        "def rep(s):\n",
        "  count={}\n",
        "  for i in s:\n",
        "    if i in count:\n",
        "      count[i]+=1\n",
        "    else:\n",
        "      count[i]=1\n",
        "  return count\n",
        "\n",
        "s=\"dictionary\"\n",
        "rep(s)"
      ]
    },
    {
      "cell_type": "markdown",
      "id": "ae14e4e5",
      "metadata": {
        "id": "ae14e4e5"
      },
      "source": [
        "**18-Write a Python program to find the first non-repeating character in a given string"
      ]
    },
    {
      "cell_type": "code",
      "execution_count": null,
      "id": "d73778e5",
      "metadata": {
        "id": "d73778e5",
        "colab": {
          "base_uri": "https://localhost:8080/",
          "height": 36
        },
        "outputId": "0670677c-8c46-4015-b555-a8fd66646fb7"
      },
      "outputs": [
        {
          "output_type": "execute_result",
          "data": {
            "text/plain": [
              "'d'"
            ],
            "application/vnd.google.colaboratory.intrinsic+json": {
              "type": "string"
            }
          },
          "metadata": {},
          "execution_count": 2
        }
      ],
      "source": [
        "def repp(s):\n",
        "  c=[]\n",
        "  count={}\n",
        "  for i in s:\n",
        "    if i in count:\n",
        "      count[i]+=1\n",
        "    else:\n",
        "      count[i]=1\n",
        "      c.append(i)\n",
        "  for i in c:\n",
        "    if count[i] == 1:\n",
        "      return i\n",
        "\n",
        "s=\"dictionary\"\n",
        "repp(s)"
      ]
    },
    {
      "cell_type": "markdown",
      "id": "3adf5669",
      "metadata": {
        "id": "3adf5669"
      },
      "source": [
        "**19-Write a Python program to remove spaces from a given string"
      ]
    },
    {
      "cell_type": "code",
      "execution_count": null,
      "id": "b4f22602",
      "metadata": {
        "id": "b4f22602",
        "colab": {
          "base_uri": "https://localhost:8080/",
          "height": 36
        },
        "outputId": "b036c4cf-6a49-46b5-a654-2c50ce23a6bc"
      },
      "outputs": [
        {
          "output_type": "execute_result",
          "data": {
            "text/plain": [
              "'OmarMahmoudKhalil'"
            ],
            "application/vnd.google.colaboratory.intrinsic+json": {
              "type": "string"
            }
          },
          "metadata": {},
          "execution_count": 5
        }
      ],
      "source": [
        "s=\"Omar Mahmoud Khalil\"\n",
        "s.replace(\" \",\"\")"
      ]
    },
    {
      "cell_type": "markdown",
      "id": "734de60c",
      "metadata": {
        "id": "734de60c"
      },
      "source": [
        "**20-Write a Python program to count the number of non-empty substrings of a given string"
      ]
    },
    {
      "cell_type": "code",
      "execution_count": null,
      "id": "ef3f2274",
      "metadata": {
        "id": "ef3f2274",
        "colab": {
          "base_uri": "https://localhost:8080/"
        },
        "outputId": "0665d03f-26ce-4632-9351-c5f0af1aff65"
      },
      "outputs": [
        {
          "output_type": "execute_result",
          "data": {
            "text/plain": [
              "6"
            ]
          },
          "metadata": {},
          "execution_count": 16
        }
      ],
      "source": [
        "def cou(s):\n",
        "  return int(len(s)*(len(s)+1)/2)\n",
        "s=\"abc\"\n",
        "cou(s)"
      ]
    },
    {
      "cell_type": "markdown",
      "id": "509998e2",
      "metadata": {
        "id": "509998e2"
      },
      "source": [
        "**21-write a Python program to swap first and last element of any list."
      ]
    },
    {
      "cell_type": "code",
      "execution_count": null,
      "id": "68692d7f",
      "metadata": {
        "id": "68692d7f",
        "colab": {
          "base_uri": "https://localhost:8080/"
        },
        "outputId": "6abd93d4-b706-4fdd-c1be-121233bf3099"
      },
      "outputs": [
        {
          "output_type": "stream",
          "name": "stdout",
          "text": [
            "[28, 88, 888, 8]\n"
          ]
        }
      ],
      "source": [
        "def swp(l):\n",
        "  l[0],l[-1]=l[-1],l[0]\n",
        "  print(l)\n",
        "ll=[8,88,888,28]\n",
        "swp(ll)"
      ]
    },
    {
      "cell_type": "markdown",
      "id": "959e0837",
      "metadata": {
        "id": "959e0837"
      },
      "source": [
        "**22-Given a list in Python and provided the positions of the elements, write a program to swap the two elements in the list. (Input : List = [23, 65, 19, 90], pos1 = 1, pos2 = 3\n",
        "Output : [19, 65, 23, 90])"
      ]
    },
    {
      "cell_type": "code",
      "execution_count": null,
      "id": "225d8c6d",
      "metadata": {
        "id": "225d8c6d",
        "colab": {
          "base_uri": "https://localhost:8080/"
        },
        "outputId": "c0851dd3-da16-45f0-aa70-af58adad2284"
      },
      "outputs": [
        {
          "output_type": "stream",
          "name": "stdout",
          "text": [
            "[19, 65, 23, 90]\n"
          ]
        }
      ],
      "source": [
        "list=[23,65,19,90]\n",
        "list[0],list[2]=list[2],list[0]\n",
        "print(list)"
      ]
    },
    {
      "cell_type": "markdown",
      "id": "66fc6682",
      "metadata": {
        "id": "66fc6682"
      },
      "source": [
        "**23- search for the all ways to know the length of the list"
      ]
    },
    {
      "cell_type": "code",
      "execution_count": null,
      "id": "15f342de",
      "metadata": {
        "id": "15f342de",
        "colab": {
          "base_uri": "https://localhost:8080/"
        },
        "outputId": "2e6d8cf3-aecc-444d-c0c7-dac058ea24ae"
      },
      "outputs": [
        {
          "output_type": "stream",
          "name": "stdout",
          "text": [
            "first way: 4\n",
            "second way: 4\n",
            "third way: 4\n",
            "fourth way: 4\n"
          ]
        }
      ],
      "source": [
        "l=[8,88,888,28]\n",
        "print(\"first way:\",len(l))\n",
        "\n",
        "c=0\n",
        "for i in l:\n",
        "  c+=1\n",
        "print(\"second way:\",c)\n",
        "\n",
        "print(\"third way:\",len([i for i in l]))\n",
        "\n",
        "print(\"fourth way:\",l.__len__())"
      ]
    },
    {
      "cell_type": "markdown",
      "source": [
        "**24-write a Python code to find the Maximum number of list of numbers."
      ],
      "metadata": {
        "id": "QJIGkyKtk_9u"
      },
      "id": "QJIGkyKtk_9u"
    },
    {
      "cell_type": "code",
      "execution_count": null,
      "id": "21f8cbd6",
      "metadata": {
        "id": "21f8cbd6",
        "colab": {
          "base_uri": "https://localhost:8080/"
        },
        "outputId": "4886a3eb-8af7-4df8-f100-76f834edc6c2"
      },
      "outputs": [
        {
          "output_type": "stream",
          "name": "stdout",
          "text": [
            "888\n"
          ]
        }
      ],
      "source": [
        "l=[8,88,888,28]\n",
        "max=0\n",
        "for i in range(len(l)):\n",
        "  if l[i]>max:\n",
        "      max=l[i]\n",
        "print(max)"
      ]
    },
    {
      "cell_type": "markdown",
      "source": [
        "**25-write a Python code to find the Minimum number of list of numbers."
      ],
      "metadata": {
        "id": "m5nrs0zGlF6F"
      },
      "id": "m5nrs0zGlF6F"
    },
    {
      "cell_type": "code",
      "source": [
        "l=[8,88,888,28,0.8]\n",
        "min=l[0]\n",
        "for i in range(len(l)):\n",
        "  if l[i]<min:\n",
        "      min=l[i]\n",
        "print(min)"
      ],
      "metadata": {
        "colab": {
          "base_uri": "https://localhost:8080/"
        },
        "id": "R_fDbC4clH_I",
        "outputId": "7efd479a-5dda-4427-9fba-7ffa6d9c1ed5"
      },
      "id": "R_fDbC4clH_I",
      "execution_count": null,
      "outputs": [
        {
          "output_type": "stream",
          "name": "stdout",
          "text": [
            "0.8\n"
          ]
        }
      ]
    },
    {
      "cell_type": "markdown",
      "id": "96822d96",
      "metadata": {
        "id": "96822d96"
      },
      "source": [
        "**26-search for if an elem is existing in list"
      ]
    },
    {
      "cell_type": "code",
      "execution_count": null,
      "id": "51ca5c9a",
      "metadata": {
        "id": "51ca5c9a",
        "colab": {
          "base_uri": "https://localhost:8080/"
        },
        "outputId": "bab25a5e-ef1b-4641-88d0-de03882cbaf3"
      },
      "outputs": [
        {
          "output_type": "stream",
          "name": "stdout",
          "text": [
            "true the number exists\n"
          ]
        }
      ],
      "source": [
        "l=[8,88,888,28]\n",
        "if 888 in l:\n",
        "  print(\"true the number exists\")\n",
        "else:\n",
        "  print(\"nope\")"
      ]
    },
    {
      "cell_type": "markdown",
      "id": "d9557da7",
      "metadata": {
        "id": "d9557da7"
      },
      "source": [
        "**27- clear python list using different ways"
      ]
    },
    {
      "cell_type": "code",
      "execution_count": null,
      "id": "b69858a3",
      "metadata": {
        "id": "b69858a3",
        "colab": {
          "base_uri": "https://localhost:8080/"
        },
        "outputId": "26039f50-aa30-4e7d-81f2-450707d46fd1"
      },
      "outputs": [
        {
          "output_type": "stream",
          "name": "stdout",
          "text": [
            "first way: None\n",
            "second way: []\n"
          ]
        }
      ],
      "source": [
        "l=[8,88,888,28]\n",
        "print(\"first way:\",l.clear())\n",
        "\n",
        "l=[8,88,888,28]\n",
        "while l:\n",
        "  l.pop()\n",
        "print(\"second way:\",l)"
      ]
    },
    {
      "cell_type": "markdown",
      "id": "52160e88",
      "metadata": {
        "id": "52160e88"
      },
      "source": [
        "**28-remove duplicated elements from a list"
      ]
    },
    {
      "cell_type": "code",
      "execution_count": null,
      "id": "5e362228",
      "metadata": {
        "id": "5e362228",
        "colab": {
          "base_uri": "https://localhost:8080/"
        },
        "outputId": "06e64888-6034-420f-99ca-5facb01503cf"
      },
      "outputs": [
        {
          "output_type": "stream",
          "name": "stdout",
          "text": [
            "{8, 88, 888, 28}\n"
          ]
        }
      ],
      "source": [
        "l=[8,88,888,28,8,88,888]\n",
        "ll=set(l)\n",
        "print(ll)\n"
      ]
    },
    {
      "cell_type": "markdown",
      "id": "282337f7",
      "metadata": {
        "id": "282337f7"
      },
      "source": [
        "**29-Given list values and keys list, convert these values to key value pairs in form of list of dictionaries. (Input : test_list = [“Gfg”, 3, “is”, 8], key_list = [“name”, “id”]\n",
        "Output : [{‘name’: ‘Gfg’, ‘id’: 3}, {‘name’: ‘is’, ‘id’: 8}])"
      ]
    },
    {
      "cell_type": "code",
      "execution_count": null,
      "id": "4d4e2d28",
      "metadata": {
        "id": "4d4e2d28",
        "colab": {
          "base_uri": "https://localhost:8080/"
        },
        "outputId": "f17768b7-d498-48c0-fae7-5a1060a69057"
      },
      "outputs": [
        {
          "output_type": "stream",
          "name": "stdout",
          "text": [
            "['Gfg', 3, 'is', 8]\n",
            "[{'name': 'Gfg', 'id': 3}, {'name': 'is', 'id': 8}]\n"
          ]
        }
      ],
      "source": [
        "test_list=[\"Gfg\",3,\"is\",8]\n",
        "print(test_list)\n",
        "\n",
        "key_list=[\"name\",\"id\"]\n",
        "\n",
        "new_list=[]\n",
        "for i in range(0,len(test_list), 2):\n",
        "    new_list.append({key_list[0]: test_list[i], key_list[1] : test_list[i+ 1]})\n",
        "\n",
        "print(new_list)"
      ]
    },
    {
      "cell_type": "markdown",
      "id": "c26b6e9f",
      "metadata": {
        "id": "c26b6e9f"
      },
      "source": [
        "**30-write a python program to count unique values inside a list using different ways"
      ]
    },
    {
      "cell_type": "code",
      "execution_count": null,
      "id": "72132667",
      "metadata": {
        "id": "72132667",
        "colab": {
          "base_uri": "https://localhost:8080/"
        },
        "outputId": "fb630fd9-cb08-46c2-a734-b03a9bbb96d4"
      },
      "outputs": [
        {
          "output_type": "stream",
          "name": "stdout",
          "text": [
            "{8, 88, 888, 28}\n",
            "4\n"
          ]
        }
      ],
      "source": [
        "l=[8,88,888,28,8,88,888]\n",
        "ll=set(l)\n",
        "print(ll)\n",
        "print(len(ll))"
      ]
    },
    {
      "cell_type": "markdown",
      "id": "fed6677c",
      "metadata": {
        "id": "fed6677c"
      },
      "source": [
        "**31-write a python program Extract all elements with Frequency greater than K (Input : test_list = [4, 6, 4, 3, 3, 4, 3, 4, 3, 8], K = 3\n",
        "Output : [4, 3] )"
      ]
    },
    {
      "cell_type": "code",
      "execution_count": null,
      "id": "d81f3f9d",
      "metadata": {
        "id": "d81f3f9d",
        "colab": {
          "base_uri": "https://localhost:8080/"
        },
        "outputId": "212cca6a-ef95-4eef-932c-6b8ed5f22954"
      },
      "outputs": [
        {
          "output_type": "execute_result",
          "data": {
            "text/plain": [
              "[4, 3]"
            ]
          },
          "metadata": {},
          "execution_count": 1
        }
      ],
      "source": [
        "def ext(l,k):\n",
        "  dic={}\n",
        "  for i in l:\n",
        "    if i in dic:\n",
        "      dic[i]+=1\n",
        "    else:\n",
        "      dic[i]=1\n",
        "  result=[i for i,n in dic.items() if n>k]\n",
        "  return result\n",
        "l=[4, 6, 4, 3, 3, 4, 3, 4, 3, 8]\n",
        "k=3\n",
        "ext(l,3)"
      ]
    },
    {
      "cell_type": "markdown",
      "id": "caca5224",
      "metadata": {
        "id": "caca5224"
      },
      "source": [
        "**32-write a python program to find the Strongest Neighbour (Input: 1 2 2 3 4 5\n",
        "Output: 2 2 3 4 5)"
      ]
    },
    {
      "cell_type": "code",
      "execution_count": null,
      "id": "39fbd9b2",
      "metadata": {
        "id": "39fbd9b2",
        "colab": {
          "base_uri": "https://localhost:8080/"
        },
        "outputId": "5caa7355-20fe-4559-ac4a-2fd77770ff23"
      },
      "outputs": [
        {
          "output_type": "stream",
          "name": "stdout",
          "text": [
            "[2, 2, 3, 4, 5]\n"
          ]
        }
      ],
      "source": [
        "def strong(l):\n",
        "  strongest=list()\n",
        "  for i in range(len(l)-1):\n",
        "      strongest.append(max(l[i],l[i+1]))\n",
        "  return strongest\n",
        "\n",
        "l=[1,2,2,3,4,5]\n",
        "print(strong(l))"
      ]
    },
    {
      "cell_type": "markdown",
      "id": "a9fa8baf",
      "metadata": {
        "id": "a9fa8baf"
      },
      "source": [
        "**33-write a Python Program to print all Possible Combinations from the three Digits (Input: [1, 2, 3]\n",
        "Output:\n",
        "1 2 3 ##\n",
        "1 3 2 ##\n",
        "2 1 3 ##\n",
        "2 3 1 ##\n",
        "3 1 2 ##\n",
        "3 2 1)"
      ]
    },
    {
      "cell_type": "code",
      "execution_count": null,
      "id": "8c520a76",
      "metadata": {
        "id": "8c520a76",
        "colab": {
          "base_uri": "https://localhost:8080/"
        },
        "outputId": "98049f71-eed2-4f97-f2ba-fcc776ecae4b"
      },
      "outputs": [
        {
          "output_type": "stream",
          "name": "stdout",
          "text": [
            "1 2 3\n",
            "1 3 2\n",
            "2 1 3\n",
            "2 3 1\n",
            "3 1 2\n",
            "3 2 1\n"
          ]
        }
      ],
      "source": [
        "def com(l):\n",
        "  for i in range(len(l)):\n",
        "        for j in range(len(l)):\n",
        "            for k in range(len(l)):\n",
        "                if (i!=j and j!=k and i!=k):\n",
        "                    print(l[i],l[j],l[k])\n",
        "l=[1,2,3]\n",
        "com(l)"
      ]
    },
    {
      "cell_type": "markdown",
      "id": "5288bb89",
      "metadata": {
        "id": "5288bb89"
      },
      "source": [
        "**34-write a Python program to find all the Combinations in the list with the given condition (Input: test_list = [1,2,3]\n",
        "Output:\n",
        " [1], [1, 2], [1, 2, 3], [1, 3]\n",
        " [2], [2, 3], [3])"
      ]
    },
    {
      "cell_type": "code",
      "execution_count": null,
      "id": "59b89646",
      "metadata": {
        "id": "59b89646",
        "colab": {
          "base_uri": "https://localhost:8080/"
        },
        "outputId": "faf12fe2-e4bb-4798-d95c-714e9439300d"
      },
      "outputs": [
        {
          "output_type": "execute_result",
          "data": {
            "text/plain": [
              "[[1], [1, 2], [1, 2, 3], [2], [2, 3], [3]]"
            ]
          },
          "metadata": {},
          "execution_count": 13
        }
      ],
      "source": [
        "def comm(l):\n",
        "  comb=[]\n",
        "  for i in range(len(l)):\n",
        "        for j in range(i,len(l)):\n",
        "          comb.append(l[i:j+1])\n",
        "  return comb\n",
        "l=[1,2,3]\n",
        "comm(l)"
      ]
    },
    {
      "cell_type": "markdown",
      "id": "39973705",
      "metadata": {
        "id": "39973705"
      },
      "source": [
        "**35-write a Python program to get all unique combinations of two Lists (List_1 = [\"a\",\"b\"]\n",
        "List_2 = [1,2]\n",
        "Unique_combination = [[('a',1),('b',2)],[('a',2),('b',1)]] )"
      ]
    },
    {
      "cell_type": "code",
      "execution_count": null,
      "id": "8c4ba22b",
      "metadata": {
        "id": "8c4ba22b",
        "colab": {
          "base_uri": "https://localhost:8080/"
        },
        "outputId": "98c2d67a-e693-4c8b-cc21-71d28303c21e"
      },
      "outputs": [
        {
          "output_type": "execute_result",
          "data": {
            "text/plain": [
              "[[('a', 1)], [('a', 2)], [('b', 1)], [('b', 2)]]"
            ]
          },
          "metadata": {},
          "execution_count": 14
        }
      ],
      "source": [
        "def unique_com(l1, l2):\n",
        "    unique_comb = []\n",
        "    for i in l1:\n",
        "        for j in l2:\n",
        "            unique_comb.append([(i,j)])\n",
        "    return unique_comb\n",
        "l=[\"a\",\"b\"]\n",
        "k=[1,2]\n",
        "unique_com(l,k)"
      ]
    },
    {
      "cell_type": "markdown",
      "id": "25199af5",
      "metadata": {
        "id": "25199af5"
      },
      "source": [
        "**36-Remove all the occurrences of an element from a list in Python (Input : 1 1 2 3 4 5 1 2 1\n",
        "\n",
        "**Output : 2 3 4 5 2)"
      ]
    },
    {
      "cell_type": "code",
      "execution_count": null,
      "id": "6dc4c2ba",
      "metadata": {
        "id": "6dc4c2ba",
        "colab": {
          "base_uri": "https://localhost:8080/"
        },
        "outputId": "1c5151e2-b9db-4fd7-e1de-6329b3334bd2"
      },
      "outputs": [
        {
          "output_type": "execute_result",
          "data": {
            "text/plain": [
              "[2, 3, 4, 5, 2]"
            ]
          },
          "metadata": {},
          "execution_count": 1
        }
      ],
      "source": [
        "def rmv(l,e):\n",
        "  while e in l:\n",
        "    l.remove(e)\n",
        "  return l\n",
        "l=[1,1,2,3,4,5,1,2,1]\n",
        "rmv(l,1)"
      ]
    },
    {
      "cell_type": "markdown",
      "id": "bf1a3c93",
      "metadata": {
        "id": "bf1a3c93"
      },
      "source": [
        "**37-write a python program to Replace index elements with elements in Other List (The original list 1 is : [‘Gfg’, ‘is’, ‘best’] The original list 2 is : [0, 1, 2, 1, 0, 0, 0, 2, 1, 1, 2, 0] The lists after index elements replacements is : [‘Gfg’, ‘is’, ‘best’, ‘is’, ‘Gfg’, ‘Gfg’, ‘Gfg’, ‘best’, ‘is’, ‘is’, ‘best’, ‘Gfg’])"
      ]
    },
    {
      "cell_type": "code",
      "execution_count": null,
      "id": "fdd66a71",
      "metadata": {
        "id": "fdd66a71",
        "colab": {
          "base_uri": "https://localhost:8080/"
        },
        "outputId": "ca20c408-6300-471b-b1b1-442a221d8f90"
      },
      "outputs": [
        {
          "output_type": "execute_result",
          "data": {
            "text/plain": [
              "['Gfg',\n",
              " 'is',\n",
              " 'best',\n",
              " 'is',\n",
              " 'Gfg',\n",
              " 'Gfg',\n",
              " 'Gfg',\n",
              " 'best',\n",
              " 'is',\n",
              " 'is',\n",
              " 'best',\n",
              " 'Gfg']"
            ]
          },
          "metadata": {},
          "execution_count": 14
        }
      ],
      "source": [
        "def rep(l1,l2):\n",
        "  replaced_list=l1.copy()\n",
        "  index=0\n",
        "  for i in l2:\n",
        "    if index <len(replaced_list):\n",
        "      replaced_list[index]=l1[i]\n",
        "    else:\n",
        "      replaced_list.append(l1[i])\n",
        "    index +=1\n",
        "  return replaced_list\n",
        "l1=['Gfg', 'is', 'best']\n",
        "l2=[0, 1, 2, 1, 0, 0, 0, 2, 1, 1, 2, 0]\n",
        "rep(l1,l2)"
      ]
    },
    {
      "cell_type": "markdown",
      "id": "af0f56e8",
      "metadata": {
        "id": "af0f56e8"
      },
      "source": [
        "**38- write python program to Retain records with N occurrences of K(Input : test_list = [(4, 5, 5, 4), (5, 4, 3)], K = 5, N = 2\n",
        "Output : [(4, 5, 5, 4)]\n",
        "Input : test_list = [(4, 5, 5, 4), (5, 4, 3)], K = 5, N = 3\n",
        "Output : [] )"
      ]
    },
    {
      "cell_type": "code",
      "execution_count": null,
      "id": "67b06671",
      "metadata": {
        "id": "67b06671",
        "colab": {
          "base_uri": "https://localhost:8080/"
        },
        "outputId": "7c2db427-6da9-4318-f08f-5e83b4ed51f5"
      },
      "outputs": [
        {
          "output_type": "stream",
          "name": "stdout",
          "text": [
            "[(4, 5, 5, 4)]\n",
            "[]\n"
          ]
        }
      ],
      "source": [
        "def rec(l,k,n):\n",
        "  return ([i for i in l if i.count(k)==n])\n",
        "\n",
        "l=[(4, 5, 5, 4), (5, 4, 3)]\n",
        "k=5\n",
        "n=2\n",
        "print(rec(l,k,n))\n",
        "\n",
        "l=[(4, 5, 5, 4), (5, 4, 3)]\n",
        "k=5\n",
        "n=3\n",
        "print(rec(l,k,n))"
      ]
    },
    {
      "cell_type": "markdown",
      "id": "de76f183",
      "metadata": {
        "id": "de76f183"
      },
      "source": [
        "**39-write a Python Program to Sort the list according to the column using lambda\n",
        "array = [[1, 3, 3], [2, 1, 2], [3, 2, 1]]\n",
        "Output :\n",
        "Sorted array specific to column 0, [[1, 3, 3], [2, 1, 2], [3, 2, 1]]\n",
        "Sorted array specific to column 1, [[2, 1, 2], [3, 2, 1], [1, 3, 3]]\n",
        "Sorted array specific to column 2, [[3, 2, 1], [2, 1, 2], [1, 3, 3]]"
      ]
    },
    {
      "cell_type": "code",
      "execution_count": null,
      "id": "dc883308",
      "metadata": {
        "id": "dc883308",
        "colab": {
          "base_uri": "https://localhost:8080/"
        },
        "outputId": "deaeb112-4929-46b8-d52b-f300c36f6b94"
      },
      "outputs": [
        {
          "output_type": "stream",
          "name": "stdout",
          "text": [
            "Sorted array specific to column 0: [[1, 3, 3], [2, 1, 2], [3, 2, 1]]\n",
            "Sorted array specific to column 1: [[2, 1, 2], [3, 2, 1], [1, 3, 3]]\n",
            "Sorted array specific to column 2: [[3, 2, 1], [2, 1, 2], [1, 3, 3]]\n"
          ]
        }
      ],
      "source": [
        "def sortcolumn(arr, cindex):\n",
        "    sarr = sorted(arr, key=lambda x: x[cindex])\n",
        "    return sarr\n",
        "arr = [[1, 3, 3], [2, 1, 2], [3, 2, 1]]\n",
        "\n",
        "print(\"Sorted array specific to column 0:\", sortcolumn(arr, cindex=0))\n",
        "\n",
        "print(\"Sorted array specific to column 1:\", sortcolumn(arr, cindex=1))\n",
        "\n",
        "print(\"Sorted array specific to column 2:\", sortcolumn(arr, cindex=2))"
      ]
    },
    {
      "cell_type": "markdown",
      "source": [
        "**40- write a program to Sort Python Dictionaries by Key or Value\n",
        "Input:\n",
        "{'ravi': 10, 'rajnish': 9, 'sanjeev': 15, 'yash': 2, 'suraj': 32}\n",
        "\n",
        "Output:\n",
        "{'rajnish': 9, 'ravi': 10, 'sanjeev': 15, 'suraj': 32, 'yash': 2}"
      ],
      "metadata": {
        "id": "r_cB_RaXzRS7"
      },
      "id": "r_cB_RaXzRS7"
    },
    {
      "cell_type": "code",
      "execution_count": null,
      "id": "a96db4a0",
      "metadata": {
        "id": "a96db4a0",
        "colab": {
          "base_uri": "https://localhost:8080/"
        },
        "outputId": "606c009f-cf1b-4d2c-c5e8-9203911d98ad"
      },
      "outputs": [
        {
          "output_type": "stream",
          "name": "stdout",
          "text": [
            "by key {'rajnish': 9, 'ravi': 10, 'sanjeev': 15, 'suraj': 32, 'yash': 2}\n",
            "by value {'yash': 2, 'rajnish': 9, 'ravi': 10, 'sanjeev': 15, 'suraj': 32}\n"
          ]
        }
      ],
      "source": [
        "dic={'ravi': 10, 'rajnish': 9, 'sanjeev': 15, 'yash': 2, 'suraj': 32}\n",
        "keyss=list(dic.keys())\n",
        "keyss.sort()\n",
        "dicc={i: dic[i] for i in keyss}\n",
        "print(\"by key\",dicc)\n",
        "\n",
        "dicv = dict(sorted(dic.items(), key=lambda item: item[1]))\n",
        "print(\"by value\",dicv)"
      ]
    },
    {
      "cell_type": "markdown",
      "id": "ec63c23a",
      "metadata": {
        "id": "ec63c23a"
      },
      "source": [
        "**41-write python program to Remove keys with Values Greater than K ( Including mixed values )\n",
        "nput : test_dict = {‘Gfg’ : 3, ‘is’ : 7, ‘best’ : 10, ‘for’ : 6, ‘geeks’ : ‘CS’},\n",
        "K = 7\n",
        "Output : {‘Gfg’ : 3, ‘for’ : 6, ‘geeks’ : ‘CS’}"
      ]
    },
    {
      "cell_type": "code",
      "execution_count": null,
      "id": "e39c3a40",
      "metadata": {
        "id": "e39c3a40",
        "colab": {
          "base_uri": "https://localhost:8080/"
        },
        "outputId": "9648364b-e824-4e52-c790-47e6867c5be5"
      },
      "outputs": [
        {
          "output_type": "stream",
          "name": "stdout",
          "text": [
            "{'Gfg': 3, 'for': 6, 'geeks': 'CS'}\n"
          ]
        }
      ],
      "source": [
        "dic= {'Gfg' : 3, 'is' : 7, 'best' : 10, 'for' : 6, 'geeks' : 'CS'}\n",
        "K = 6\n",
        "\n",
        "d = {}\n",
        "for i in dic:\n",
        "\tif not (isinstance(dic[i], int) and dic[i] > K):\n",
        "\t\td[i]=dic[i]\n",
        "print(d)\n"
      ]
    },
    {
      "cell_type": "markdown",
      "id": "f143f0fe",
      "metadata": {
        "id": "f143f0fe"
      },
      "source": [
        "**42-Write a Python program to concatenate the following dictionaries to create a new one\n",
        "\n",
        "Sample Dictionary :\n",
        "dic1={1:10, 2:20}\n",
        "dic2={3:30, 4:40}\n",
        "dic3={5:50,6:60}\n",
        "Expected Result : {1: 10, 2: 20, 3: 30, 4: 40, 5: 50, 6: 60}"
      ]
    },
    {
      "cell_type": "code",
      "execution_count": null,
      "id": "74ffdfea",
      "metadata": {
        "id": "74ffdfea",
        "colab": {
          "base_uri": "https://localhost:8080/"
        },
        "outputId": "a2449cee-363f-4fba-f825-2b9bf1970a8f"
      },
      "outputs": [
        {
          "output_type": "stream",
          "name": "stdout",
          "text": [
            "{1: 10, 2: 20, 3: 30, 4: 40, 5: 50, 6: 60}\n"
          ]
        }
      ],
      "source": [
        "dic1={1:10, 2:20}\n",
        "dic2={3:30, 4:40}\n",
        "dic3={5:50,6:60}\n",
        "dic4 = {}\n",
        "for i in (dic1, dic2, dic3): dic4.update(i)\n",
        "print(dic4)"
      ]
    },
    {
      "cell_type": "markdown",
      "id": "fb04c93c",
      "metadata": {
        "id": "fb04c93c"
      },
      "source": [
        "**43-Write a Python program to iterate over dictionaries using for loops"
      ]
    },
    {
      "cell_type": "code",
      "execution_count": null,
      "id": "6aebc470",
      "metadata": {
        "id": "6aebc470",
        "colab": {
          "base_uri": "https://localhost:8080/"
        },
        "outputId": "3f4acfa7-eae5-42ac-d739-fdd6429b816b"
      },
      "outputs": [
        {
          "output_type": "stream",
          "name": "stdout",
          "text": [
            "Red 1\n",
            "Green 2\n",
            "Blue 3\n"
          ]
        }
      ],
      "source": [
        "d = {'Red': 1, 'Green': 2, 'Blue': 3}\n",
        "for key, value in d.items():\n",
        "     print(key, d[key])\n"
      ]
    },
    {
      "cell_type": "markdown",
      "id": "5f491a9d",
      "metadata": {
        "id": "5f491a9d"
      },
      "source": [
        "**44- Write a Python script to merge two Python dictionaries"
      ]
    },
    {
      "cell_type": "code",
      "execution_count": null,
      "id": "b8a14028",
      "metadata": {
        "id": "b8a14028",
        "colab": {
          "base_uri": "https://localhost:8080/"
        },
        "outputId": "ca93049f-181f-4451-95a7-070b10444292"
      },
      "outputs": [
        {
          "output_type": "stream",
          "name": "stdout",
          "text": [
            "{1: 10, 2: 20, 3: 30, 4: 40}\n"
          ]
        }
      ],
      "source": [
        "dic1={1:10, 2:20}\n",
        "dic2={3:30, 4:40}\n",
        "dic3 = {}\n",
        "for i in (dic1, dic2): dic3.update(i)\n",
        "print(dic3)"
      ]
    },
    {
      "cell_type": "markdown",
      "id": "216fc72d",
      "metadata": {
        "id": "216fc72d"
      },
      "source": [
        "**45-Write a Python program to get the maximum and minimum values of a dictionary values"
      ]
    },
    {
      "cell_type": "code",
      "execution_count": null,
      "id": "d6883f5f",
      "metadata": {
        "id": "d6883f5f",
        "colab": {
          "base_uri": "https://localhost:8080/"
        },
        "outputId": "a93a4f76-f9e6-43e0-f709-619131ad7c6c"
      },
      "outputs": [
        {
          "output_type": "stream",
          "name": "stdout",
          "text": [
            "max: 8888\n",
            "min: 8\n"
          ]
        }
      ],
      "source": [
        "dic={1: 8, 2: 88, 3: 888, 4: 28, 5: 8888, 6: 280}\n",
        "print(\"max:\",max(dic.values()))\n",
        "print(\"min:\",min(dic.values()))"
      ]
    },
    {
      "cell_type": "markdown",
      "id": "b6a53011",
      "metadata": {
        "id": "b6a53011"
      },
      "source": [
        "**46- Write a Python program to drop empty items from a given dictionary.\n",
        "Original Dictionary:\n",
        "{'c1': 'Red', 'c2': 'Green', 'c3': None}\n",
        "New Dictionary after dropping empty items:\n",
        "{'c1': 'Red', 'c2': 'Green'}"
      ]
    },
    {
      "cell_type": "code",
      "execution_count": null,
      "id": "b5c6fecf",
      "metadata": {
        "id": "b5c6fecf",
        "colab": {
          "base_uri": "https://localhost:8080/"
        },
        "outputId": "bc363361-b9b8-4cb6-dba6-baf785e13fa1"
      },
      "outputs": [
        {
          "output_type": "stream",
          "name": "stdout",
          "text": [
            "{'c1': 'Red', 'c2': 'Green'}\n"
          ]
        }
      ],
      "source": [
        "dic = {'c1': 'Red', 'c2': 'Green', 'c3':None}\n",
        "dic = {key:value for (key, value) in dic.items() if value is not None}\n",
        "print(dic)"
      ]
    },
    {
      "cell_type": "markdown",
      "id": "46d718c7",
      "metadata": {
        "id": "46d718c7"
      },
      "source": [
        "**47-Write a Python program to create a tuple of numbers and print one item"
      ]
    },
    {
      "cell_type": "code",
      "execution_count": null,
      "id": "13216ff5",
      "metadata": {
        "id": "13216ff5",
        "colab": {
          "base_uri": "https://localhost:8080/"
        },
        "outputId": "824a6429-f2f6-40d1-e999-0c50dcc5279e"
      },
      "outputs": [
        {
          "output_type": "stream",
          "name": "stdout",
          "text": [
            "888\n"
          ]
        }
      ],
      "source": [
        "tup = (8,88,888,28)\n",
        "print(tup[2])"
      ]
    },
    {
      "cell_type": "markdown",
      "id": "2be5b56b",
      "metadata": {
        "id": "2be5b56b"
      },
      "source": [
        "**48-Write a Python program to unpack a tuple into several variables"
      ]
    },
    {
      "cell_type": "code",
      "execution_count": null,
      "id": "595f44be",
      "metadata": {
        "id": "595f44be",
        "colab": {
          "base_uri": "https://localhost:8080/"
        },
        "outputId": "b7b7eade-0394-48d7-c4d4-79e006acf4b1"
      },
      "outputs": [
        {
          "output_type": "stream",
          "name": "stdout",
          "text": [
            "8\n",
            "88\n",
            "888\n"
          ]
        }
      ],
      "source": [
        "tup= (8,88,888)\n",
        "n1,n2,n3=tup\n",
        "print(n1)\n",
        "print(n2)\n",
        "print(n3)"
      ]
    },
    {
      "cell_type": "markdown",
      "id": "392388a7",
      "metadata": {
        "id": "392388a7"
      },
      "source": [
        "**49-Write a Python program to add an item to a tuple"
      ]
    },
    {
      "cell_type": "code",
      "execution_count": null,
      "id": "54cc092e",
      "metadata": {
        "id": "54cc092e",
        "colab": {
          "base_uri": "https://localhost:8080/"
        },
        "outputId": "260a4b6f-7f10-44db-9541-9d44d3d6086d"
      },
      "outputs": [
        {
          "output_type": "stream",
          "name": "stdout",
          "text": [
            "(8, 88, 888, 28, 280)\n"
          ]
        }
      ],
      "source": [
        "tup=(8,88,888,28)\n",
        "n=280\n",
        "ntup=tup+(n,)\n",
        "print(ntup)"
      ]
    },
    {
      "cell_type": "markdown",
      "id": "3e8fd124",
      "metadata": {
        "id": "3e8fd124"
      },
      "source": [
        "**50-Write a Python program to convert a tuple to a string"
      ]
    },
    {
      "cell_type": "code",
      "execution_count": null,
      "id": "92a71ddc",
      "metadata": {
        "id": "92a71ddc",
        "colab": {
          "base_uri": "https://localhost:8080/"
        },
        "outputId": "6e3f07db-1db7-4820-8421-71921802f3db"
      },
      "outputs": [
        {
          "output_type": "stream",
          "name": "stdout",
          "text": [
            "(8, 88, 888, 28)\n"
          ]
        }
      ],
      "source": [
        "tup= (8,88,888,28)\n",
        "s= str(tup)\n",
        "print(s)"
      ]
    },
    {
      "cell_type": "markdown",
      "id": "f4f64ef4",
      "metadata": {
        "id": "f4f64ef4"
      },
      "source": [
        "**51-Write a Python program to convert a list to a tuple"
      ]
    },
    {
      "cell_type": "code",
      "execution_count": null,
      "id": "210d56d3",
      "metadata": {
        "id": "210d56d3",
        "colab": {
          "base_uri": "https://localhost:8080/"
        },
        "outputId": "8ac88615-461f-4526-f598-e372eccb5a5b"
      },
      "outputs": [
        {
          "output_type": "stream",
          "name": "stdout",
          "text": [
            "(8, 88, 888, 28)\n"
          ]
        }
      ],
      "source": [
        "l=[8,88,888,28]\n",
        "tup=tuple(l)\n",
        "print(tup)"
      ]
    },
    {
      "cell_type": "markdown",
      "id": "b1e00ef7",
      "metadata": {
        "id": "b1e00ef7"
      },
      "source": [
        "**52-Write a Python program to reverse a tuple"
      ]
    },
    {
      "cell_type": "code",
      "execution_count": null,
      "id": "f45bfdc7",
      "metadata": {
        "id": "f45bfdc7",
        "colab": {
          "base_uri": "https://localhost:8080/"
        },
        "outputId": "c9b54671-465a-4d9c-8943-14d56294f8ac"
      },
      "outputs": [
        {
          "output_type": "stream",
          "name": "stdout",
          "text": [
            "(28, 888, 88, 8)\n"
          ]
        }
      ],
      "source": [
        "tup= (8,88,888,28)\n",
        "reversed= tuple(reversed(tup))\n",
        "print(reversed)"
      ]
    },
    {
      "cell_type": "markdown",
      "id": "3cd347d1",
      "metadata": {
        "id": "3cd347d1"
      },
      "source": [
        "**53-Write a Python program to replace the last value of tuples in a list.\n",
        "Sample list: [(10, 20, 40), (40, 50, 60), (70, 80, 90)]\n",
        "Expected Output: [(10, 20, 100), (40, 50, 100), (70, 80, 100)]"
      ]
    },
    {
      "cell_type": "code",
      "execution_count": null,
      "id": "3c4a2a4c",
      "metadata": {
        "id": "3c4a2a4c",
        "colab": {
          "base_uri": "https://localhost:8080/"
        },
        "outputId": "41417ddc-9a52-4a46-f589-1f374cdb9df9"
      },
      "outputs": [
        {
          "output_type": "stream",
          "name": "stdout",
          "text": [
            "[(10, 20, 100), (40, 50, 100), (70, 80, 100)]\n"
          ]
        }
      ],
      "source": [
        "def rep(tup,v):\n",
        "    l= [(*t[:-1],v) for t in tup]\n",
        "    return l\n",
        "l=[(10, 20, 40), (40, 50, 60), (70, 80, 90)]\n",
        "v= 100\n",
        "print(rep(l,v))"
      ]
    },
    {
      "cell_type": "markdown",
      "id": "76bb7b39",
      "metadata": {
        "id": "76bb7b39"
      },
      "source": [
        "**54-Write a Python program to convert a given string list to a tuple\n",
        "Original string: python 3.0\n",
        "<class 'str'>\n",
        "Convert the said string to a tuple:\n",
        "('p', 'y', 't', 'h', 'o', 'n', '3', '.', '0')"
      ]
    },
    {
      "cell_type": "code",
      "execution_count": null,
      "id": "51951937",
      "metadata": {
        "id": "51951937",
        "colab": {
          "base_uri": "https://localhost:8080/"
        },
        "outputId": "cdc6e61e-3676-4247-c22a-971148e10101"
      },
      "outputs": [
        {
          "output_type": "stream",
          "name": "stdout",
          "text": [
            "('p', 'y', 't', 'h', 'o', 'n', ' ', '3', '.', '0', ' ', '<', 'c', 'l', 'a', 's', 's', ' ', \"'\", 's', 't', 'r', \"'\", '>')\n"
          ]
        }
      ],
      "source": [
        "s=\"python 3.0 <class 'str'>\"\n",
        "tup=tuple(s)\n",
        "print(tup)"
      ]
    },
    {
      "cell_type": "markdown",
      "id": "5a1d5d97",
      "metadata": {
        "id": "5a1d5d97"
      },
      "source": [
        "**55-Write a Python program to calculate the average value of the numbers in a given tuple of tuples"
      ]
    },
    {
      "cell_type": "code",
      "execution_count": null,
      "id": "834e7992",
      "metadata": {
        "id": "834e7992",
        "colab": {
          "base_uri": "https://localhost:8080/"
        },
        "outputId": "702d3413-8ec8-4f3f-a381-2f2090ba7b45"
      },
      "outputs": [
        {
          "output_type": "stream",
          "name": "stdout",
          "text": [
            "Avg: 300.6666666666667\n"
          ]
        }
      ],
      "source": [
        "def calcAVG(tups):\n",
        "    total_sum = 0\n",
        "    total_elements = 0\n",
        "\n",
        "    for i in tups:\n",
        "        for n in i:\n",
        "            total_sum += n\n",
        "            total_elements += 1\n",
        "\n",
        "    if total_elements == 0:\n",
        "        return None\n",
        "    else:\n",
        "        avg = total_sum / total_elements\n",
        "        return avg\n",
        "\n",
        "tup = ((8, 88, 888), (5, 55, 555), (9, 99, 999))\n",
        "avg = calcAVG(tup)\n",
        "\n",
        "if avg is not None:\n",
        "    print(\"Avg:\", avg)\n",
        "else:\n",
        "    print(\"empty\")\n"
      ]
    },
    {
      "cell_type": "markdown",
      "id": "51edab9c",
      "metadata": {
        "id": "51edab9c"
      },
      "source": [
        "**56-Write a Python program to add member(s) to a set."
      ]
    },
    {
      "cell_type": "code",
      "execution_count": null,
      "id": "2b65df79",
      "metadata": {
        "id": "2b65df79",
        "colab": {
          "base_uri": "https://localhost:8080/"
        },
        "outputId": "255bbe4d-2c71-427c-b9c1-ee9ea8b385cb"
      },
      "outputs": [
        {
          "output_type": "stream",
          "name": "stdout",
          "text": [
            "{1, 2, 3, 4, 8, 888, 88, 28}\n"
          ]
        }
      ],
      "source": [
        "s= {1, 2, 3, 4}\n",
        "s.add(888)\n",
        "\n",
        "s.update([28,88,8])\n",
        "\n",
        "print(s)\n"
      ]
    },
    {
      "cell_type": "markdown",
      "id": "965590cc",
      "metadata": {
        "id": "965590cc"
      },
      "source": [
        "**57-Write a Python program to remove an item from a set if it is present in the set."
      ]
    },
    {
      "cell_type": "code",
      "execution_count": null,
      "id": "866bab28",
      "metadata": {
        "id": "866bab28",
        "colab": {
          "base_uri": "https://localhost:8080/"
        },
        "outputId": "6f001d40-bab9-4503-dc0c-60283c94eb07"
      },
      "outputs": [
        {
          "output_type": "stream",
          "name": "stdout",
          "text": [
            "3 removed\n",
            "{1, 2, 4, 5}\n"
          ]
        }
      ],
      "source": [
        "s= {1, 2, 3, 4, 5}\n",
        "n= 3\n",
        "\n",
        "if n in s:\n",
        "    s.remove(n)\n",
        "    print(f\"{n} removed\")\n",
        "else:\n",
        "    print(f\"{n} not found\")\n",
        "\n",
        "print(s)\n"
      ]
    },
    {
      "cell_type": "markdown",
      "id": "2b7cfed1",
      "metadata": {
        "id": "2b7cfed1"
      },
      "source": [
        "**58-Write a Python program to create an intersection,union,difference and symmetric difference of sets"
      ]
    },
    {
      "cell_type": "code",
      "execution_count": null,
      "id": "7f94b7fe",
      "metadata": {
        "id": "7f94b7fe",
        "colab": {
          "base_uri": "https://localhost:8080/"
        },
        "outputId": "1dd787ff-0165-4803-b993-a629b820b96c"
      },
      "outputs": [
        {
          "output_type": "stream",
          "name": "stdout",
          "text": [
            "Intersection: {8, 88}\n",
            "Union: {1, 2, 3, 6, 7, 8, 88, 28}\n",
            "Difference (set1 - set2): {1, 2, 3}\n",
            "Symmetric Difference: {1, 2, 3, 6, 7, 28}\n"
          ]
        }
      ],
      "source": [
        "set1 = {1, 2, 3, 8, 88}\n",
        "set2 = {8, 88, 6, 7,28}\n",
        "\n",
        "intersection = set1 & set2\n",
        "print(\"Intersection:\", intersection)\n",
        "\n",
        "union = set1 | set2\n",
        "print(\"Union:\", union)\n",
        "\n",
        "difference = set1 - set2\n",
        "print(\"Difference (set1 - set2):\", difference)\n",
        "\n",
        "symmetric_difference = set1 ^ set2\n",
        "print(\"Symmetric Difference:\", symmetric_difference)"
      ]
    },
    {
      "cell_type": "markdown",
      "id": "b94931e2",
      "metadata": {
        "id": "b94931e2"
      },
      "source": [
        "**59-Write a Python program to find the maximum and minimum values in a set"
      ]
    },
    {
      "cell_type": "code",
      "execution_count": null,
      "id": "203f9600",
      "metadata": {
        "id": "203f9600",
        "colab": {
          "base_uri": "https://localhost:8080/"
        },
        "outputId": "b2323c5c-613b-4e3c-838e-fa0afae526f8"
      },
      "outputs": [
        {
          "output_type": "stream",
          "name": "stdout",
          "text": [
            "Maximum value: 888\n",
            "Minimum value: 8\n"
          ]
        }
      ],
      "source": [
        "s={8,88,888,28}\n",
        "print(\"Maximum value:\", max(s))\n",
        "print(\"Minimum value:\", min(s))"
      ]
    },
    {
      "cell_type": "markdown",
      "id": "255fd554",
      "metadata": {
        "id": "255fd554"
      },
      "source": [
        "**60- Write a Python program that finds all pairs of elements in a list whose sum is equal to a given value."
      ]
    },
    {
      "cell_type": "code",
      "execution_count": null,
      "id": "c2d94e1f",
      "metadata": {
        "id": "c2d94e1f",
        "colab": {
          "base_uri": "https://localhost:8080/"
        },
        "outputId": "377e4ed9-e2cb-4096-ab9f-d6c1e99394cd"
      },
      "outputs": [
        {
          "output_type": "stream",
          "name": "stdout",
          "text": [
            "[(1, 6), (2, 5), (3, 4)]\n"
          ]
        }
      ],
      "source": [
        "def pair(l,s):\n",
        "    pairs = []\n",
        "\n",
        "    for i in range(len(l)):\n",
        "        for j in range(i + 1, len(l)):\n",
        "            if l[i]+l[j]==s:\n",
        "                pairs.append((l[i], l[j]))\n",
        "    return pairs\n",
        "l= [1, 2, 3, 4, 5, 6, 7]\n",
        "s=7\n",
        "print(pair(l,s))\n"
      ]
    }
  ],
  "metadata": {
    "kernelspec": {
      "display_name": "Python 3 (ipykernel)",
      "language": "python",
      "name": "python3"
    },
    "language_info": {
      "codemirror_mode": {
        "name": "ipython",
        "version": 3
      },
      "file_extension": ".py",
      "mimetype": "text/x-python",
      "name": "python",
      "nbconvert_exporter": "python",
      "pygments_lexer": "ipython3",
      "version": "3.9.7"
    },
    "colab": {
      "provenance": []
    }
  },
  "nbformat": 4,
  "nbformat_minor": 5
}