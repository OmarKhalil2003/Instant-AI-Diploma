{
  "cells": [
    {
      "cell_type": "markdown",
      "id": "ff38aad7",
      "metadata": {
        "id": "ff38aad7"
      },
      "source": [
        "### 1-Write a Python program that takes two numbers as user input and performs addition on them."
      ]
    },
    {
      "cell_type": "code",
      "execution_count": null,
      "id": "91696b79",
      "metadata": {
        "colab": {
          "base_uri": "https://localhost:8080/"
        },
        "id": "91696b79",
        "outputId": "6fec6171-e4ee-42bb-ba99-2881123d977c"
      },
      "outputs": [
        {
          "output_type": "stream",
          "name": "stdout",
          "text": [
            "enter first num: 8\n",
            "enter second num: 8\n",
            "16\n"
          ]
        }
      ],
      "source": [
        "def summm(x,y):\n",
        "  print(x+y)\n",
        "n1=int(input(\"enter first num: \"))\n",
        "n2=int(input(\"enter second num: \"))\n",
        "summm(n1,n2)"
      ]
    },
    {
      "cell_type": "markdown",
      "id": "360854ff",
      "metadata": {
        "id": "360854ff"
      },
      "source": [
        "### 2-Write a Python program that takes an integer as input and checks if it is even or odd. Print \"Even\" if the number is divisible by 2, otherwise print \"Odd\"."
      ]
    },
    {
      "cell_type": "code",
      "execution_count": null,
      "id": "ee4c35fe",
      "metadata": {
        "ExecuteTime": {
          "end_time": "2023-07-23T21:35:24.351946Z",
          "start_time": "2023-07-23T21:35:23.287212Z"
        },
        "colab": {
          "base_uri": "https://localhost:8080/"
        },
        "id": "ee4c35fe",
        "outputId": "cf884cf9-7738-4752-b556-117f0859038f"
      },
      "outputs": [
        {
          "output_type": "stream",
          "name": "stdout",
          "text": [
            "enter num: 8\n",
            "Even\n"
          ]
        }
      ],
      "source": [
        "def even_odd(n):\n",
        "  if n%2==0:\n",
        "    print(\"Even\")\n",
        "  else:\n",
        "    print(\"Odd\")\n",
        "num=int(input(\"enter num: \"))\n",
        "even_odd(num)"
      ]
    },
    {
      "cell_type": "markdown",
      "id": "6ea0354c",
      "metadata": {
        "id": "6ea0354c"
      },
      "source": [
        "### 3-Write a Python program that prints all the even numbers from 1 to 20 using a for loop"
      ]
    },
    {
      "cell_type": "code",
      "execution_count": null,
      "id": "df43b7f5",
      "metadata": {
        "ExecuteTime": {
          "end_time": "2023-07-23T21:36:51.373589Z",
          "start_time": "2023-07-23T21:36:51.365580Z"
        },
        "colab": {
          "base_uri": "https://localhost:8080/"
        },
        "id": "df43b7f5",
        "outputId": "84be787d-78e9-45ce-9412-29e51d7c9c42"
      },
      "outputs": [
        {
          "output_type": "stream",
          "name": "stdout",
          "text": [
            "0 2 4 6 8 10 12 14 16 18 "
          ]
        }
      ],
      "source": [
        "for i in range(20):\n",
        "  if i%2==0:\n",
        "    print(i,end=\" \")"
      ]
    },
    {
      "cell_type": "markdown",
      "id": "2d66bab2",
      "metadata": {
        "id": "2d66bab2"
      },
      "source": [
        "### 4-Write a Python function that takes a string as input and counts the number of vowels (a, e, i, o, u) in the string. The function should return the count"
      ]
    },
    {
      "cell_type": "code",
      "execution_count": null,
      "id": "a37a84fd",
      "metadata": {
        "ExecuteTime": {
          "end_time": "2023-07-23T21:45:58.522044Z",
          "start_time": "2023-07-23T21:45:58.514370Z"
        },
        "colab": {
          "base_uri": "https://localhost:8080/"
        },
        "id": "a37a84fd",
        "outputId": "1294e526-9231-4bbc-8f9a-08df05535e45"
      },
      "outputs": [
        {
          "output_type": "stream",
          "name": "stdout",
          "text": [
            "enter a string: Eight\n",
            "2\n"
          ]
        }
      ],
      "source": [
        "def count_vowels(s):\n",
        "  s=s.lower()\n",
        "  count=0\n",
        "  vowels=[\"a\",\"e\",\"i\",\"o\",\"u\"]\n",
        "  for char in s:\n",
        "        if char in vowels:\n",
        "          count+=1\n",
        "  print(count)\n",
        "\n",
        "ss=(input(\"enter a string: \"))\n",
        "count_vowels(ss)"
      ]
    },
    {
      "cell_type": "markdown",
      "id": "a9a0ea06",
      "metadata": {
        "id": "a9a0ea06"
      },
      "source": [
        "### 5-Write a Python program that creates a list of numbers from 1 to 10. Use a loop to iterate over the list and print each number of power 2."
      ]
    },
    {
      "cell_type": "code",
      "execution_count": null,
      "id": "6fa658cf",
      "metadata": {
        "ExecuteTime": {
          "end_time": "2023-07-23T21:48:02.328880Z",
          "start_time": "2023-07-23T21:48:02.314313Z"
        },
        "colab": {
          "base_uri": "https://localhost:8080/"
        },
        "id": "6fa658cf",
        "outputId": "5c214389-159e-424a-f69c-4e67b52fe8bb"
      },
      "outputs": [
        {
          "output_type": "stream",
          "name": "stdout",
          "text": [
            "the square of 1 is 1\n",
            "the square of 2 is 4\n",
            "the square of 3 is 9\n",
            "the square of 4 is 16\n",
            "the square of 5 is 25\n",
            "the square of 6 is 36\n",
            "the square of 7 is 49\n",
            "the square of 8 is 64\n",
            "the square of 9 is 81\n",
            "the square of 10 is 100\n"
          ]
        }
      ],
      "source": [
        "def llist():\n",
        "  num=list(range(1,11))\n",
        "  for i in num:\n",
        "    square=i**2\n",
        "    print(f\"the square of {i} is {square}\")\n",
        "\n",
        "llist()"
      ]
    },
    {
      "cell_type": "markdown",
      "id": "430c9df9",
      "metadata": {
        "id": "430c9df9"
      },
      "source": [
        "### 6-Write a Python program that calculates the average grade for a student based on their scores in different subjects. The program should include the following steps:\n",
        "\n",
        "#### 1-Create variables to store the student's name, subject names, and corresponding scores. Initialize the variables with sample data.\n",
        "\n",
        "#### 2-Prompt the user to enter the student's name and assign it to the name variable.\n",
        "\n",
        "#### 3-Use a loop to prompt the user to enter the subject names and corresponding scores. Store the subject names in a list and the scores in another list.\n",
        "\n",
        "#### 4-After collecting the scores, calculate the average grade by summing up all the scores and dividing by the total number of subjects.\n",
        "\n",
        "#### 5-Check if the average grade is above a 70, print a congratulatory message. Otherwise, print an encouragement message."
      ]
    },
    {
      "cell_type": "code",
      "execution_count": null,
      "id": "e0254271",
      "metadata": {
        "ExecuteTime": {
          "end_time": "2023-07-15T16:16:17.066909Z",
          "start_time": "2023-07-15T16:16:07.636799Z"
        },
        "colab": {
          "base_uri": "https://localhost:8080/"
        },
        "id": "e0254271",
        "outputId": "899a08ac-5d3a-43b3-b12f-8b80118fcc74"
      },
      "outputs": [
        {
          "output_type": "stream",
          "name": "stdout",
          "text": [
            "Enter the name: Jax Teller\n",
            "Enter the number of subjects: 3\n",
            "Enter the name of subject 1: History\n",
            "Enter the score for subject History: 88\n",
            "Enter the name of subject 2: Math\n",
            "Enter the score for subject Math: 89\n",
            "Enter the name of subject 3: Physics\n",
            "Enter the score for subject Physics: 28\n",
            "LOL XD ur average grade is 68.33333333333333\n"
          ]
        }
      ],
      "source": [
        "def student_grade():\n",
        "  name=\"Dexter Morgan\"\n",
        "  subjects=[\"History\",\"Math\",\"Physics\"]\n",
        "  grade=[88,98,28]\n",
        "\n",
        "  name = input(\"Enter the name: \")\n",
        "  subjects = []\n",
        "  grades = []\n",
        "  num_sub = int(input(\"Enter the number of subjects: \"))\n",
        "  for i in range(num_sub):\n",
        "      name = input(f\"Enter the name of subject {i + 1}: \")\n",
        "      grade = int(input(f\"Enter the score for subject {name}: \"))\n",
        "      subjects.append(name)\n",
        "      grades.append(grade)\n",
        "\n",
        "  average_grade = sum(grades) / num_sub\n",
        "\n",
        "  if average_grade > 70:\n",
        "        print(f\"Congratulations ur average grade is {average_grade}\")\n",
        "  else:\n",
        "        print(f\"LOL XD ur average grade is {average_grade}\")\n",
        "\n",
        "student_grade()"
      ]
    },
    {
      "cell_type": "markdown",
      "id": "ae9df360",
      "metadata": {
        "id": "ae9df360"
      },
      "source": [
        "### 7-Find Common Elements\n",
        "### Write a Python function that takes two lists as input and returns a new list containing the common elements present in both lists."
      ]
    },
    {
      "cell_type": "code",
      "execution_count": null,
      "id": "d030c3c0",
      "metadata": {
        "ExecuteTime": {
          "end_time": "2023-07-23T22:08:16.794474Z",
          "start_time": "2023-07-23T22:08:16.775639Z"
        },
        "colab": {
          "base_uri": "https://localhost:8080/"
        },
        "id": "d030c3c0",
        "outputId": "9b2c4338-ac64-4df1-df3d-9c0c2f320d21"
      },
      "outputs": [
        {
          "output_type": "stream",
          "name": "stdout",
          "text": [
            "[888, 8, 88]\n"
          ]
        }
      ],
      "source": [
        "def common(l1,l2):\n",
        "  common_elements=list(set(l1)&set(l2))\n",
        "  return common_elements\n",
        "\n",
        "list1=[8,88,9,888]\n",
        "list2=[888,7,8,88]\n",
        "print(common(list1,list2))"
      ]
    },
    {
      "cell_type": "markdown",
      "id": "9a2f34cb",
      "metadata": {
        "id": "9a2f34cb"
      },
      "source": [
        "### 8-Write a Python function that takes a list of numbers and an element to remove from the list."
      ]
    },
    {
      "cell_type": "code",
      "execution_count": null,
      "id": "78de9fe8",
      "metadata": {
        "ExecuteTime": {
          "end_time": "2023-07-23T22:21:36.514592Z",
          "start_time": "2023-07-23T22:21:36.505437Z"
        },
        "colab": {
          "base_uri": "https://localhost:8080/"
        },
        "id": "78de9fe8",
        "outputId": "a6fd571d-f5ae-477f-a700-28c9b8be05ff"
      },
      "outputs": [
        {
          "output_type": "stream",
          "name": "stdout",
          "text": [
            "[8, 88, 888]\n"
          ]
        }
      ],
      "source": [
        "def rmv(list,num):\n",
        "  if num in list:\n",
        "    list.remove(num)\n",
        "    print(list)\n",
        "  else:\n",
        "    print(\"Element not found\")\n",
        "\n",
        "listt=[8,88,888,28]\n",
        "rmv(listt,28)"
      ]
    },
    {
      "cell_type": "markdown",
      "id": "f1658f3b",
      "metadata": {
        "ExecuteTime": {
          "end_time": "2023-07-23T22:18:08.230185Z",
          "start_time": "2023-07-23T22:18:08.224220Z"
        },
        "id": "f1658f3b"
      },
      "source": [
        "### 9-Given 4 numbers A, B, C and D. Print the last 2 digits from their Multiplication.\n",
        "### Example :\n",
        "### the Multiplication of 4 numbers is 5 * 7 * 2 * 4 = 280 so the answer will be the last 2 digits which are 80."
      ]
    },
    {
      "cell_type": "code",
      "execution_count": null,
      "id": "e3acbe03",
      "metadata": {
        "ExecuteTime": {
          "end_time": "2023-07-23T22:26:11.183016Z",
          "start_time": "2023-07-23T22:26:03.981069Z"
        },
        "colab": {
          "base_uri": "https://localhost:8080/"
        },
        "id": "e3acbe03",
        "outputId": "6cfb72fc-d3c5-4f04-cafe-b63fd323c111"
      },
      "outputs": [
        {
          "output_type": "stream",
          "name": "stdout",
          "text": [
            "80\n"
          ]
        }
      ],
      "source": [
        "def multi(a,b,c,d):\n",
        "  result=a*b*c*d\n",
        "  last_2Digits=result%100\n",
        "  print(last_2Digits)\n",
        "\n",
        "multi(5,7,2,4)"
      ]
    },
    {
      "cell_type": "markdown",
      "id": "d7ab15bb",
      "metadata": {
        "ExecuteTime": {
          "end_time": "2023-07-23T22:26:14.833712Z",
          "start_time": "2023-07-23T22:26:14.819130Z"
        },
        "id": "d7ab15bb"
      },
      "source": [
        "### 10- Given a number X. Determine if the number is prime or not"
      ]
    },
    {
      "cell_type": "code",
      "execution_count": null,
      "id": "59b27f0a",
      "metadata": {
        "ExecuteTime": {
          "end_time": "2023-07-23T22:35:25.933766Z",
          "start_time": "2023-07-23T22:35:24.168681Z"
        },
        "colab": {
          "base_uri": "https://localhost:8080/"
        },
        "id": "59b27f0a",
        "outputId": "82287e1a-b8c6-4345-9c3b-e45ea2642a9b"
      },
      "outputs": [
        {
          "output_type": "stream",
          "name": "stdout",
          "text": [
            "not prime\n"
          ]
        }
      ],
      "source": [
        "def pprime(x):\n",
        "  if x<=1:\n",
        "    print(\"not prime\")\n",
        "    return\n",
        "  for i in range(2,x):\n",
        "    if x % i == 0:\n",
        "      print(\"not prime\")\n",
        "      return\n",
        "  print(\"prime\")\n",
        "n=8\n",
        "pprime(n)"
      ]
    },
    {
      "cell_type": "markdown",
      "id": "e1d1dcf9",
      "metadata": {
        "id": "e1d1dcf9"
      },
      "source": [
        "### 11- Given a number N and a list A of N numbers. Determine if the number X exists in array A or not and print its position (0-index)."
      ]
    },
    {
      "cell_type": "code",
      "execution_count": null,
      "id": "2b002b0e",
      "metadata": {
        "ExecuteTime": {
          "end_time": "2023-07-23T22:53:41.474835Z",
          "start_time": "2023-07-23T22:53:41.458293Z"
        },
        "colab": {
          "base_uri": "https://localhost:8080/"
        },
        "id": "2b002b0e",
        "outputId": "0e5b3168-46ad-4a64-da1e-ac26e8474203"
      },
      "outputs": [
        {
          "output_type": "stream",
          "name": "stdout",
          "text": [
            "28 at 3\n"
          ]
        }
      ],
      "source": [
        "def findd(a,n):\n",
        "  for i in range(len(a)):\n",
        "    if a[i]==n:\n",
        "      return i\n",
        "  return -1\n",
        "\n",
        "A=[8,88,888,28]\n",
        "N=28\n",
        "\n",
        "if findd(A,N) != -1:\n",
        "    print(f\"{N} at {findd(A,N)}\")\n",
        "else:\n",
        "    print(f\"{N} not found\")"
      ]
    },
    {
      "cell_type": "markdown",
      "id": "f2ec854b",
      "metadata": {
        "id": "f2ec854b"
      },
      "source": [
        "### 12- Given a number N and a list A of N numbers. Determine if the array is lucky or not.\n",
        "\n",
        "#### Note: the array is lucky if the frequency (number of occurrence) of the minimum element is odd."
      ]
    },
    {
      "cell_type": "code",
      "execution_count": null,
      "id": "0c4f7f4b",
      "metadata": {
        "ExecuteTime": {
          "end_time": "2023-07-23T23:02:02.490192Z",
          "start_time": "2023-07-23T23:02:02.476874Z"
        },
        "colab": {
          "base_uri": "https://localhost:8080/"
        },
        "id": "0c4f7f4b",
        "outputId": "c315c4fc-b673-4be2-c10e-f13568077041"
      },
      "outputs": [
        {
          "output_type": "stream",
          "name": "stdout",
          "text": [
            "lucky\n"
          ]
        }
      ],
      "source": [
        "def lucky(a):\n",
        "  minn=min(a)\n",
        "  c=0\n",
        "  for i in range(len(a)):\n",
        "    if a[i]==minn:\n",
        "      c+=1\n",
        "\n",
        "  if c%2==1:\n",
        "    return True\n",
        "  else:\n",
        "    return False\n",
        "\n",
        "A=[8,88,888,28]\n",
        "\n",
        "if lucky(A):\n",
        "  print(\"lucky\")\n",
        "else:\n",
        "  print(\"not lucky\")"
      ]
    },
    {
      "cell_type": "markdown",
      "id": "e1ce1ae5",
      "metadata": {
        "id": "e1ce1ae5"
      },
      "source": [
        "### 13-Given a number N and a list A of N numbers. Print the array after doing the following operations:\n",
        "\n",
        "#### Find minimum number in these numbers.\n",
        "#### Find maximum number in these numbers.\n",
        "##### Swap minimum number with maximum number."
      ]
    },
    {
      "cell_type": "code",
      "execution_count": null,
      "id": "e0d6e639",
      "metadata": {
        "ExecuteTime": {
          "end_time": "2023-07-23T23:10:04.293733Z",
          "start_time": "2023-07-23T23:10:04.280256Z"
        },
        "colab": {
          "base_uri": "https://localhost:8080/"
        },
        "id": "e0d6e639",
        "outputId": "6fa75efb-2654-44a4-b9d8-c5d828afde22"
      },
      "outputs": [
        {
          "output_type": "stream",
          "name": "stdout",
          "text": [
            "[8, 88, 888, 28]\n",
            "Maximum: 888\n",
            "Minimum: 8\n",
            "After swap: [888, 88, 8, 28]\n"
          ]
        }
      ],
      "source": [
        "def swapp(a):\n",
        "  minn=min(a)\n",
        "  maxx=max(a)\n",
        "\n",
        "  print(\"Maximum:\",maxx)\n",
        "  print(\"Minimum:\",minn)\n",
        "\n",
        "  min_index=a.index(minn)\n",
        "  max_index=a.index(maxx)\n",
        "\n",
        "  a[min_index],a[max_index]=maxx,minn\n",
        "\n",
        "A=[8,88,888,28]\n",
        "print(A)\n",
        "swapp(A)\n",
        "print(\"After swap:\",A)"
      ]
    },
    {
      "cell_type": "markdown",
      "id": "9eb8e9c5",
      "metadata": {
        "ExecuteTime": {
          "end_time": "2023-07-23T23:10:06.436833Z",
          "start_time": "2023-07-23T23:10:06.422086Z"
        },
        "id": "9eb8e9c5"
      },
      "source": [
        "### 14-Given a number N and an array A of N numbers. Print the lowest number and its position.\n",
        "\n",
        "### Note: if there are more than one answer print first one's position."
      ]
    },
    {
      "cell_type": "code",
      "execution_count": null,
      "id": "018e01c8",
      "metadata": {
        "ExecuteTime": {
          "end_time": "2023-07-23T23:20:38.498527Z",
          "start_time": "2023-07-23T23:20:38.490451Z"
        },
        "colab": {
          "base_uri": "https://localhost:8080/"
        },
        "id": "018e01c8",
        "outputId": "8bfe21ab-9ec5-488d-ede5-40be720443cc"
      },
      "outputs": [
        {
          "output_type": "stream",
          "name": "stdout",
          "text": [
            "(8, 0)\n"
          ]
        }
      ],
      "source": [
        "def find_min(a):\n",
        "  minn=a[0]\n",
        "  index=0\n",
        "  for i in range(len(a)):\n",
        "    if a[i]<minn:\n",
        "      minn=a[i]\n",
        "      index=i\n",
        "  return minn,index\n",
        "\n",
        "a=[8,88,888,28]\n",
        "print(find_min(a))"
      ]
    },
    {
      "cell_type": "markdown",
      "id": "f35d3427",
      "metadata": {
        "ExecuteTime": {
          "end_time": "2023-07-23T23:20:55.880128Z",
          "start_time": "2023-07-23T23:20:55.861804Z"
        },
        "id": "f35d3427"
      },
      "source": [
        "### 15-Given a number N and an array A of N numbers. Print the numbers after sorting them"
      ]
    },
    {
      "cell_type": "code",
      "execution_count": null,
      "id": "a6e0edd4",
      "metadata": {
        "ExecuteTime": {
          "end_time": "2023-07-23T23:46:13.340484Z",
          "start_time": "2023-07-23T23:46:13.324468Z"
        },
        "colab": {
          "base_uri": "https://localhost:8080/"
        },
        "id": "a6e0edd4",
        "outputId": "edd236b0-d278-4881-c7c3-fa3804223b41"
      },
      "outputs": [
        {
          "output_type": "stream",
          "name": "stdout",
          "text": [
            "[888, 28, 8, 88]\n",
            "After sorting: [8, 28, 88, 888]\n"
          ]
        }
      ],
      "source": [
        "def sorting(a):\n",
        "  print(a)\n",
        "  print(\"After sorting:\",sorted(a))\n",
        "\n",
        "a=[888,28,8,88]\n",
        "sorting(a)"
      ]
    },
    {
      "cell_type": "markdown",
      "id": "a172f354",
      "metadata": {
        "ExecuteTime": {
          "end_time": "2023-07-23T23:46:15.127981Z",
          "start_time": "2023-07-23T23:46:15.108766Z"
        },
        "id": "a172f354"
      },
      "source": [
        "### 16- Write a Python program to remove spaces from a given string"
      ]
    },
    {
      "cell_type": "code",
      "execution_count": null,
      "id": "36d3569d",
      "metadata": {
        "ExecuteTime": {
          "end_time": "2023-07-23T23:50:06.443640Z",
          "start_time": "2023-07-23T23:50:01.592919Z"
        },
        "colab": {
          "base_uri": "https://localhost:8080/",
          "height": 36
        },
        "id": "36d3569d",
        "outputId": "1895cc4f-34f8-4053-96b8-9255c498dfc3"
      },
      "outputs": [
        {
          "output_type": "execute_result",
          "data": {
            "text/plain": [
              "'eight'"
            ],
            "application/vnd.google.colaboratory.intrinsic+json": {
              "type": "string"
            }
          },
          "metadata": {},
          "execution_count": 17
        }
      ],
      "source": [
        "def remove_space(s):\n",
        "  sub=\"\"\n",
        "  for char in s:\n",
        "    if char!=\" \":\n",
        "      sub+=char\n",
        "  return sub\n",
        "\n",
        "S=\"e i g h t\"\n",
        "remove_space(S)"
      ]
    },
    {
      "cell_type": "markdown",
      "id": "a5470d49",
      "metadata": {
        "id": "a5470d49"
      },
      "source": [
        "### 17-write a Python program to swap first and last element of any list."
      ]
    },
    {
      "cell_type": "code",
      "execution_count": null,
      "id": "9d73887b",
      "metadata": {
        "ExecuteTime": {
          "end_time": "2023-07-23T23:50:59.283429Z",
          "start_time": "2023-07-23T23:50:59.272096Z"
        },
        "colab": {
          "base_uri": "https://localhost:8080/"
        },
        "id": "9d73887b",
        "outputId": "53a921e9-9c58-417c-f363-94efb98b58c6"
      },
      "outputs": [
        {
          "output_type": "stream",
          "name": "stdout",
          "text": [
            "Before swapping: [8, 88, 888, 28]\n",
            "after swapping: [28, 88, 888, 8]\n"
          ]
        }
      ],
      "source": [
        "def swappp(a):\n",
        "  print(\"Before swapping:\",a)\n",
        "  lenn=len(a)\n",
        "  temp=a[0]\n",
        "  a[0]=a[lenn-1]\n",
        "  a[lenn-1]=temp\n",
        "  print(\"after swapping:\",a)\n",
        "\n",
        "A=[8,88,888,28]\n",
        "swappp(A)"
      ]
    },
    {
      "cell_type": "markdown",
      "id": "1ae6cf8e",
      "metadata": {
        "ExecuteTime": {
          "end_time": "2023-07-23T23:51:34.302184Z",
          "start_time": "2023-07-23T23:51:34.285461Z"
        },
        "id": "1ae6cf8e"
      },
      "source": [
        "### 18- Write a Python program to add member(s) to a set."
      ]
    },
    {
      "cell_type": "code",
      "execution_count": null,
      "id": "3e905e5b",
      "metadata": {
        "colab": {
          "base_uri": "https://localhost:8080/"
        },
        "id": "3e905e5b",
        "outputId": "3372e670-c6bb-4fe9-ee31-8c1082ec9e38"
      },
      "outputs": [
        {
          "output_type": "stream",
          "name": "stdout",
          "text": [
            "{'t', 'h', 'i', 'g', 'e'}\n",
            "{'t', 's', 'h', 'i', 'g', 'e'}\n"
          ]
        }
      ],
      "source": [
        "s={\"e\",\"i\",\"g\",\"h\",\"t\"}\n",
        "print(s)\n",
        "s.update(\"s\")\n",
        "print(s)"
      ]
    },
    {
      "cell_type": "markdown",
      "id": "db811fec",
      "metadata": {
        "id": "db811fec"
      },
      "source": [
        "### 19-Write a Python program to remove an item from a set if it is present in the set"
      ]
    },
    {
      "cell_type": "code",
      "execution_count": null,
      "id": "daa40ca6",
      "metadata": {
        "colab": {
          "base_uri": "https://localhost:8080/"
        },
        "id": "daa40ca6",
        "outputId": "21e97eb3-2ae0-41b9-d884-6a50d754ac4e"
      },
      "outputs": [
        {
          "output_type": "stream",
          "name": "stdout",
          "text": [
            "{'t', 's', 'h', 'i', 'g', 'e'}\n",
            "{'t', 'h', 'i', 'g', 'e'}\n"
          ]
        }
      ],
      "source": [
        "s={\"e\",\"i\",\"g\",\"h\",\"t\",\"s\"}\n",
        "print(s)\n",
        "s.discard(\"s\")\n",
        "print(s)"
      ]
    },
    {
      "cell_type": "markdown",
      "id": "240c9bde",
      "metadata": {
        "id": "240c9bde"
      },
      "source": [
        "### 20-Write a Python program to get the maximum and minimum values of a dictionary values"
      ]
    },
    {
      "cell_type": "code",
      "execution_count": null,
      "id": "4b767f24",
      "metadata": {
        "ExecuteTime": {
          "end_time": "2023-07-23T23:56:35.117528Z",
          "start_time": "2023-07-23T23:56:35.105969Z"
        },
        "colab": {
          "base_uri": "https://localhost:8080/"
        },
        "id": "4b767f24",
        "outputId": "94c17fe7-12f8-41ca-bbac-eb43b6b5f073"
      },
      "outputs": [
        {
          "output_type": "stream",
          "name": "stdout",
          "text": [
            "Max: 888\n",
            "Min: 8\n"
          ]
        }
      ],
      "source": [
        "def MaxMin(dictionary):\n",
        "  maxx=max(dictionary.values())\n",
        "  minn=min(dictionary.values())\n",
        "  print(\"Max:\",maxx)\n",
        "  print(\"Min:\",minn)\n",
        "\n",
        "dict={'a':8,'b':88,'c':888,'d':28}\n",
        "MaxMin(dict)"
      ]
    },
    {
      "cell_type": "markdown",
      "id": "f1d3a246",
      "metadata": {
        "id": "f1d3a246"
      },
      "source": [
        "### 21-Write a Python program to drop empty items from a given dictionary.Original Dictionary:{'c1': 'Red', 'c2': 'Green', 'c3': None}New Dictionary after dropping empty items:{'c1': 'Red', 'c2': 'Green'}"
      ]
    },
    {
      "cell_type": "code",
      "execution_count": null,
      "id": "7c2a5807",
      "metadata": {
        "colab": {
          "base_uri": "https://localhost:8080/"
        },
        "id": "7c2a5807",
        "outputId": "25c9d039-abd8-4a0b-dfcf-6a1dc19cbf54"
      },
      "outputs": [
        {
          "output_type": "stream",
          "name": "stdout",
          "text": [
            "Original: {'c1': 'Red', 'c2': 'Green', 'c3': None}\n",
            "After dropping empty items:\n",
            "{'c1': 'Red', 'c2': 'Green'}\n"
          ]
        }
      ],
      "source": [
        "def dropp(dictionary):\n",
        "  dic1= {'c1': 'Red', 'c2': 'Green', 'c3': None}\n",
        "  print(\"Original:\",dic1)\n",
        "  print(\"After dropping empty items:\")\n",
        "  dic1 = {key:value for (key, value) in dic1.items() if value is not None}\n",
        "  print(dic1)\n",
        "\n",
        "dropp(dict)"
      ]
    }
  ],
  "metadata": {
    "kernelspec": {
      "display_name": "Python 3 (ipykernel)",
      "language": "python",
      "name": "python3"
    },
    "language_info": {
      "codemirror_mode": {
        "name": "ipython",
        "version": 3
      },
      "file_extension": ".py",
      "mimetype": "text/x-python",
      "name": "python",
      "nbconvert_exporter": "python",
      "pygments_lexer": "ipython3",
      "version": "3.9.12"
    },
    "colab": {
      "provenance": []
    }
  },
  "nbformat": 4,
  "nbformat_minor": 5
}