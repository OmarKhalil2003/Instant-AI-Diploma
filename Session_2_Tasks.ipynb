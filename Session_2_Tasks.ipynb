{
  "nbformat": 4,
  "nbformat_minor": 0,
  "metadata": {
    "colab": {
      "provenance": []
    },
    "kernelspec": {
      "name": "python3",
      "display_name": "Python 3"
    },
    "language_info": {
      "name": "python"
    }
  },
  "cells": [
    {
      "cell_type": "markdown",
      "source": [
        "# Session 2 Tasks"
      ],
      "metadata": {
        "id": "N8blBjfzqU6I"
      }
    },
    {
      "cell_type": "markdown",
      "source": [
        "1. Create 3 variables to store street, city and country, now create address variable to\n",
        "store entire address. Use two ways of creating this variable, one using + operator and the other using f-string.\n",
        "Now Print the address in such a way that the street, city and country prints in a separate line\n",
        "2. Create a variable to store the string \"Earth revolves around the sun\"\n",
        "    1. Print \"revolves\" using slice operator\n",
        "    2. Print \"sun\" using negative index\n",
        "3. Create two variables to store how many fruits and vegetables you eat in a day.\n",
        "Now Print \"I eat x veggies and y fruits daily\" where x and y presents vegetables and fruits that you eat everyday. Use python f string for this.\n",
        "4. I have a string variable called s='maine 200 banana khaye'. This of course is a\n",
        "wrong statement, the correct statement is 'maine 10 samosa khaye'.\n",
        "Replace incorrect words in original strong with new ones and print the new string.\n",
        "Also try to do this in one line.\n"
      ],
      "metadata": {
        "id": "10XjML4cqZa4"
      }
    },
    {
      "cell_type": "code",
      "source": [
        "#1\n",
        "Street=\"888 Wall St\"\n",
        "City=\"New York\"\n",
        "Country=\"USA\"\n",
        "address = Street + \"\\n\" + City + \"\\n\" + Country\n",
        "print(address)\n",
        "print(\"************************************\")\n",
        "Street=\"888 Charming\"\n",
        "City=\"California\"\n",
        "Country=\"USA\"\n",
        "address = f\"{Street}\\n{City}\\n{Country}\"\n",
        "print(address)"
      ],
      "metadata": {
        "colab": {
          "base_uri": "https://localhost:8080/"
        },
        "id": "ldVriK6vQH-t",
        "outputId": "2761d560-952a-496d-b5c7-e81618899baa"
      },
      "execution_count": null,
      "outputs": [
        {
          "output_type": "stream",
          "name": "stdout",
          "text": [
            "888 Wall St\n",
            "New York\n",
            "USA\n",
            "************************************\n",
            "888 Charming\n",
            "California\n",
            "USA\n"
          ]
        }
      ]
    },
    {
      "cell_type": "code",
      "source": [
        "#2\n",
        "x=\"Earth revolves around the sun\"\n",
        "revolves = x[6:14]\n",
        "print(revolves)\n",
        "sun=x[-3:]\n",
        "print(sun)"
      ],
      "metadata": {
        "colab": {
          "base_uri": "https://localhost:8080/"
        },
        "id": "UxcHd7T7SQnH",
        "outputId": "668118e8-a6a2-460c-ad3e-f9a047c2da57"
      },
      "execution_count": null,
      "outputs": [
        {
          "output_type": "stream",
          "name": "stdout",
          "text": [
            "revolves\n",
            "sun\n"
          ]
        }
      ]
    },
    {
      "cell_type": "code",
      "source": [
        "#3\n",
        "veggies=8\n",
        "fruits=8\n",
        "print(f\"I eat {veggies} veggies and {fruits} fruits daily\")"
      ],
      "metadata": {
        "colab": {
          "base_uri": "https://localhost:8080/"
        },
        "id": "m_Wy9krBSz6H",
        "outputId": "2c14286a-d465-4edc-c160-db7182e1c70b"
      },
      "execution_count": null,
      "outputs": [
        {
          "output_type": "stream",
          "name": "stdout",
          "text": [
            "I eat 8 veggies and 8 fruits daily\n"
          ]
        }
      ]
    },
    {
      "cell_type": "code",
      "source": [
        "#4\n",
        "s='maine 200 banana khaye'\n",
        "new_s = s.replace('200', '10').replace('banana', 'samosa')\n",
        "print(new_s)"
      ],
      "metadata": {
        "colab": {
          "base_uri": "https://localhost:8080/"
        },
        "id": "zNadoszZTibG",
        "outputId": "965389d3-713a-4ef6-c47c-6d4b5bf68edc"
      },
      "execution_count": null,
      "outputs": [
        {
          "output_type": "stream",
          "name": "stdout",
          "text": [
            "maine 10 samosa khaye\n"
          ]
        }
      ]
    },
    {
      "cell_type": "code",
      "execution_count": null,
      "metadata": {
        "id": "P4EUN6nuqUPf"
      },
      "outputs": [],
      "source": []
    },
    {
      "cell_type": "markdown",
      "source": [
        "1. Let us say your expense for every month are listed below.\n",
        "\t  1. January -  2200\n",
        "    2. February - 2350\n",
        "    3. March - 2600\n",
        "    4. April - 2130\n",
        "    5. May - 2190\n",
        "\n",
        "Create a list to store these monthly expenses and using that find out,\n",
        "\n",
        "    1. In Feb, how many dollars you spent extra compare to January?\n",
        "    2. Find out your total expense in first quarter (first three months) of the year.\n",
        "    3. Find out if you spent exactly 2000 dollars in any month\n",
        "    4. June month just finished and your expense is 1980 dollar. Add this item to our monthly expense list\n",
        "    5. You returned an item that you bought in a month of April and\n",
        "    got a refund of 200$. Make a correction to your monthly expense list\n",
        "    based on this\n",
        "\n",
        "2. You have a list of your favourite marvel super heros.\n",
        "```\n",
        "heros=['spider man','thor','hulk','iron man','captain america']\n",
        "```\n",
        "\n",
        "Using this find out,\n",
        "\n",
        "    1. Length of the list\n",
        "    2. Add 'black panther' at the end of this list\n",
        "    3. You realize that you need to add 'black panther' after 'hulk',\n",
        "       so remove it from the list first and then add it after 'hulk'\n",
        "    4. Now you don't like thor and hulk because they get angry easily :)\n",
        "       So you want to remove thor and hulk from list and replace them with doctor strange (because he is cool).\n",
        "       Do that with one line of code.\n",
        "    5. Sort the heros list in alphabetical order (Hint. Use dir() functions to list down all functions available in list)\n",
        "\n",
        "\n",
        "\n",
        "\n"
      ],
      "metadata": {
        "id": "B98K3rbAqz7e"
      }
    },
    {
      "cell_type": "code",
      "source": [
        "expenses=[2200,2350,2600,2130,2190]\n",
        "\n",
        "extra_feb=expenses[1]-expenses[0]\n",
        "print(\"the extra in feb=\",extra_feb)\n",
        "\n",
        "total_exp_qua=expenses[1]+expenses[0]+expenses[2]\n",
        "print(\"the totallll=\",total_exp_qua)\n",
        "\n",
        "spent_2000_dollars = False\n",
        "c = 0\n",
        "while c < len(expenses):\n",
        "    if expenses[c] == 2000:\n",
        "        spent_2000_dollars = True\n",
        "        break\n",
        "    c+= 1\n",
        "print(\"Did you spend exactly 2000 dollars in any month?\", spent_2000_dollars)\n",
        "\n",
        "expenses.append(1980)\n",
        "print(\"Updated expenses:\",expenses)\n",
        "\n",
        "refund= 200\n",
        "expenses[3]-=refund\n",
        "print(\"Corrected expenses:\",expenses)"
      ],
      "metadata": {
        "colab": {
          "base_uri": "https://localhost:8080/"
        },
        "id": "aE-NnrCrVDUF",
        "outputId": "85e8380e-f5fb-49ab-a314-a6a0a56a4f04"
      },
      "execution_count": null,
      "outputs": [
        {
          "output_type": "stream",
          "name": "stdout",
          "text": [
            "the extra in feb= 150\n",
            "the totallll= 7150\n",
            "Did you spend exactly 2000 dollars in any month? False\n",
            "Updated expenses: [2200, 2350, 2600, 2130, 2190, 1980]\n",
            "Corrected expenses: [2200, 2350, 2600, 1930, 2190, 1980]\n"
          ]
        }
      ]
    },
    {
      "cell_type": "code",
      "source": [
        "heros = ['spider man', 'thor', 'hulk', 'iron man', 'captain america']\n",
        "\n",
        "length= len(heros)\n",
        "print(\"Length of the list:\", length)\n",
        "\n",
        "heros.append('black panther')\n",
        "print(\"adding 'black panther':\", heros)\n",
        "\n",
        "heros.remove('black panther')\n",
        "heros.insert(heros.index('hulk') + 1, 'black panther')\n",
        "print(\"adding 'black panther' after 'hulk':\", heros)\n",
        "\n",
        "heros[heros.index('thor'):heros.index('hulk') + 1] = ['doctor strange']\n",
        "print(\"replacing 'thor' and 'hulk' with 'doctor strange':\", heros)\n",
        "\n",
        "heros.sort()\n",
        "print(\"sorting in alphabetical order:\", heros)\n",
        "\n",
        "print(\"\\nBlack Widow is the best BTW\")"
      ],
      "metadata": {
        "colab": {
          "base_uri": "https://localhost:8080/"
        },
        "id": "Wd4CA2-ZY2ZQ",
        "outputId": "9efb1c3a-bffb-4a84-d0e4-f964fb94cc3a"
      },
      "execution_count": null,
      "outputs": [
        {
          "output_type": "stream",
          "name": "stdout",
          "text": [
            "Length of the list: 5\n",
            "adding 'black panther': ['spider man', 'thor', 'hulk', 'iron man', 'captain america', 'black panther']\n",
            "adding 'black panther' after 'hulk': ['spider man', 'thor', 'hulk', 'black panther', 'iron man', 'captain america']\n",
            "replacing 'thor' and 'hulk' with 'doctor strange': ['spider man', 'doctor strange', 'black panther', 'iron man', 'captain america']\n",
            "sorting in alphabetical order: ['black panther', 'captain america', 'doctor strange', 'iron man', 'spider man']\n",
            "\n",
            "Black Widow is the best BTW\n"
          ]
        }
      ]
    },
    {
      "cell_type": "code",
      "source": [],
      "metadata": {
        "id": "vvus0ZOlrzJS"
      },
      "execution_count": null,
      "outputs": []
    },
    {
      "cell_type": "markdown",
      "source": [
        "Write a program that prints following shape\n",
        "\n",
        "```\n",
        "    *\n",
        "   ***\n",
        "  *****\n",
        " *******\n",
        "*********\n",
        " *******\n",
        "  *****\n",
        "   ***\n",
        "    *\n",
        "```\n",
        "\n"
      ],
      "metadata": {
        "id": "ojrpvhohrzgJ"
      }
    },
    {
      "cell_type": "code",
      "source": [
        "rows=5\n",
        "i=0\n",
        "while i<rows:\n",
        "  spaces = rows-i-1\n",
        "  stars = 2*i+1\n",
        "  print(\" \" * spaces + \"*\" * stars)\n",
        "  i += 1\n",
        "\n",
        "i = rows-2\n",
        "while i >= 0:\n",
        "    spaces = rows -i-1\n",
        "    stars = 2*i+1\n",
        "    print(\" \" * spaces + \"*\" * stars)\n",
        "    i -= 1"
      ],
      "metadata": {
        "colab": {
          "base_uri": "https://localhost:8080/"
        },
        "id": "lLgoaEV9bOIs",
        "outputId": "c21755b4-559f-4283-e6fe-a8a7a0eff86f"
      },
      "execution_count": null,
      "outputs": [
        {
          "output_type": "stream",
          "name": "stdout",
          "text": [
            "    *\n",
            "   ***\n",
            "  *****\n",
            " *******\n",
            "*********\n",
            " *******\n",
            "  *****\n",
            "   ***\n",
            "    *\n"
          ]
        }
      ]
    },
    {
      "cell_type": "code",
      "source": [],
      "metadata": {
        "id": "Ad-hutpdsCJ6"
      },
      "execution_count": null,
      "outputs": []
    }
  ]
}